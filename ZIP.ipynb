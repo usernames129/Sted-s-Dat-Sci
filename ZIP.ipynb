{
  "nbformat": 4,
  "nbformat_minor": 0,
  "metadata": {
    "colab": {
      "name": "ZIP.ipynb",
      "provenance": [],
      "collapsed_sections": []
    },
    "kernelspec": {
      "name": "python3",
      "display_name": "Python 3"
    }
  },
  "cells": [
    {
      "cell_type": "markdown",
      "metadata": {
        "id": "Of7qoNEn9iIf",
        "colab_type": "text"
      },
      "source": [
        "The purpose of this workbook is to investigate what crimes are prevalent in certain areas, which includes, but not limited to:\n",
        "- finding the percent of total crimes in each zip code\n",
        "- breaking up the crimes in fbi_desc and apd_desc and looking where those crimes occur"
      ]
    },
    {
      "cell_type": "code",
      "metadata": {
        "id": "gUunKpFWyYDn",
        "colab_type": "code",
        "colab": {
          "base_uri": "https://localhost:8080/",
          "height": 34
        },
        "outputId": "1fe2cb64-495a-4079-d5d2-8024c2d314c2"
      },
      "source": [
        "from google.colab import drive\n",
        "drive.mount('/content/drive')\n",
        "drive_dir = '/content/drive/My Drive/MATH_3439/'\n",
        "graph_folder = '/content/drive/My Drive/Reducing Austin Crime/'"
      ],
      "execution_count": null,
      "outputs": [
        {
          "output_type": "stream",
          "text": [
            "Drive already mounted at /content/drive; to attempt to forcibly remount, call drive.mount(\"/content/drive\", force_remount=True).\n"
          ],
          "name": "stdout"
        }
      ]
    },
    {
      "cell_type": "code",
      "metadata": {
        "id": "dvIpbd-ny5e3",
        "colab_type": "code",
        "colab": {}
      },
      "source": [
        "import pandas as pd\n",
        "from matplotlib import pyplot as plt"
      ],
      "execution_count": null,
      "outputs": []
    },
    {
      "cell_type": "code",
      "metadata": {
        "id": "eegjNpZMzCLM",
        "colab_type": "code",
        "colab": {
          "base_uri": "https://localhost:8080/",
          "height": 765
        },
        "outputId": "099dccb5-9d6f-44f5-9db1-79a410c04d5c"
      },
      "source": [
        "df = pd.read_csv(drive_dir + 'data/2016_austin_crime.csv')\n",
        "df"
      ],
      "execution_count": null,
      "outputs": [
        {
          "output_type": "execute_result",
          "data": {
            "text/html": [
              "<div>\n",
              "<style scoped>\n",
              "    .dataframe tbody tr th:only-of-type {\n",
              "        vertical-align: middle;\n",
              "    }\n",
              "\n",
              "    .dataframe tbody tr th {\n",
              "        vertical-align: top;\n",
              "    }\n",
              "\n",
              "    .dataframe thead th {\n",
              "        text-align: right;\n",
              "    }\n",
              "</style>\n",
              "<table border=\"1\" class=\"dataframe\">\n",
              "  <thead>\n",
              "    <tr style=\"text-align: right;\">\n",
              "      <th></th>\n",
              "      <th>GO Primary Key</th>\n",
              "      <th>Council District</th>\n",
              "      <th>GO Highest Offense Desc</th>\n",
              "      <th>Highest NIBRS/UCR Offense Description</th>\n",
              "      <th>GO Report Date</th>\n",
              "      <th>GO Location</th>\n",
              "      <th>Clearance Status</th>\n",
              "      <th>Clearance Date</th>\n",
              "      <th>GO District</th>\n",
              "      <th>GO Location Zip</th>\n",
              "      <th>GO Census Tract</th>\n",
              "      <th>GO X Coordinate</th>\n",
              "      <th>GO Y Coordinate</th>\n",
              "    </tr>\n",
              "  </thead>\n",
              "  <tbody>\n",
              "    <tr>\n",
              "      <th>0</th>\n",
              "      <td>2.016102e+08</td>\n",
              "      <td>8.0</td>\n",
              "      <td>AGG ASLT ENHANC STRANGL/SUFFOC</td>\n",
              "      <td>Agg Assault</td>\n",
              "      <td>1-Jan-16</td>\n",
              "      <td>8600 W SH 71                                  ...</td>\n",
              "      <td>C</td>\n",
              "      <td>12-Jan-16</td>\n",
              "      <td>D</td>\n",
              "      <td>78735.0</td>\n",
              "      <td>19.08</td>\n",
              "      <td>3067322.0</td>\n",
              "      <td>10062796.0</td>\n",
              "    </tr>\n",
              "    <tr>\n",
              "      <th>1</th>\n",
              "      <td>2.016106e+08</td>\n",
              "      <td>9.0</td>\n",
              "      <td>THEFT</td>\n",
              "      <td>Theft</td>\n",
              "      <td>1-Jan-16</td>\n",
              "      <td>219 E 6TH ST                                  ...</td>\n",
              "      <td>C</td>\n",
              "      <td>4-Jan-16</td>\n",
              "      <td>G</td>\n",
              "      <td>78701.0</td>\n",
              "      <td>11.00</td>\n",
              "      <td>3114957.0</td>\n",
              "      <td>10070462.0</td>\n",
              "    </tr>\n",
              "    <tr>\n",
              "      <th>2</th>\n",
              "      <td>2.016109e+08</td>\n",
              "      <td>4.0</td>\n",
              "      <td>AGG ROBBERY/DEADLY WEAPON</td>\n",
              "      <td>Robbery</td>\n",
              "      <td>1-Jan-16</td>\n",
              "      <td>701 W LONGSPUR BLVD                           ...</td>\n",
              "      <td>N</td>\n",
              "      <td>3-May-16</td>\n",
              "      <td>E</td>\n",
              "      <td>78753.0</td>\n",
              "      <td>18.23</td>\n",
              "      <td>3129181.0</td>\n",
              "      <td>10106923.0</td>\n",
              "    </tr>\n",
              "    <tr>\n",
              "      <th>3</th>\n",
              "      <td>2.016109e+08</td>\n",
              "      <td>9.0</td>\n",
              "      <td>THEFT</td>\n",
              "      <td>Theft</td>\n",
              "      <td>1-Jan-16</td>\n",
              "      <td>404 COLORADO ST                               ...</td>\n",
              "      <td>N</td>\n",
              "      <td>22-Jan-16</td>\n",
              "      <td>G</td>\n",
              "      <td>78701.0</td>\n",
              "      <td>11.00</td>\n",
              "      <td>3113643.0</td>\n",
              "      <td>10070357.0</td>\n",
              "    </tr>\n",
              "    <tr>\n",
              "      <th>4</th>\n",
              "      <td>2.016110e+08</td>\n",
              "      <td>4.0</td>\n",
              "      <td>SEXUAL ASSAULT W/ OBJECT</td>\n",
              "      <td>Rape</td>\n",
              "      <td>1-Jan-16</td>\n",
              "      <td>NaN</td>\n",
              "      <td>C</td>\n",
              "      <td>10-Mar-16</td>\n",
              "      <td>E</td>\n",
              "      <td>78753.0</td>\n",
              "      <td>18.33</td>\n",
              "      <td>NaN</td>\n",
              "      <td>NaN</td>\n",
              "    </tr>\n",
              "    <tr>\n",
              "      <th>...</th>\n",
              "      <td>...</td>\n",
              "      <td>...</td>\n",
              "      <td>...</td>\n",
              "      <td>...</td>\n",
              "      <td>...</td>\n",
              "      <td>...</td>\n",
              "      <td>...</td>\n",
              "      <td>...</td>\n",
              "      <td>...</td>\n",
              "      <td>...</td>\n",
              "      <td>...</td>\n",
              "      <td>...</td>\n",
              "      <td>...</td>\n",
              "    </tr>\n",
              "    <tr>\n",
              "      <th>37456</th>\n",
              "      <td>2.016505e+10</td>\n",
              "      <td>7.0</td>\n",
              "      <td>THEFT</td>\n",
              "      <td>Theft</td>\n",
              "      <td>31-Dec-16</td>\n",
              "      <td>8822 MC CANN DR                               ...</td>\n",
              "      <td>N</td>\n",
              "      <td>3-Jan-17</td>\n",
              "      <td>B</td>\n",
              "      <td>78757.0</td>\n",
              "      <td>18.17</td>\n",
              "      <td>3117454.0</td>\n",
              "      <td>10109065.0</td>\n",
              "    </tr>\n",
              "    <tr>\n",
              "      <th>37457</th>\n",
              "      <td>2.016505e+10</td>\n",
              "      <td>9.0</td>\n",
              "      <td>THEFT</td>\n",
              "      <td>Theft</td>\n",
              "      <td>31-Dec-16</td>\n",
              "      <td>123 W 6TH ST                                  ...</td>\n",
              "      <td>N</td>\n",
              "      <td>3-Jan-17</td>\n",
              "      <td>G</td>\n",
              "      <td>78701.0</td>\n",
              "      <td>11.00</td>\n",
              "      <td>3113924.0</td>\n",
              "      <td>10070794.0</td>\n",
              "    </tr>\n",
              "    <tr>\n",
              "      <th>37458</th>\n",
              "      <td>2.016801e+10</td>\n",
              "      <td>1.0</td>\n",
              "      <td>BURGLARY OF VEHICLE</td>\n",
              "      <td>Theft</td>\n",
              "      <td>31-Dec-16</td>\n",
              "      <td>5601 EXETER DR                                ...</td>\n",
              "      <td>N</td>\n",
              "      <td>16-Jan-17</td>\n",
              "      <td>I</td>\n",
              "      <td>78723.0</td>\n",
              "      <td>21.06</td>\n",
              "      <td>3132812.0</td>\n",
              "      <td>10084356.0</td>\n",
              "    </tr>\n",
              "    <tr>\n",
              "      <th>37459</th>\n",
              "      <td>2.016801e+10</td>\n",
              "      <td>3.0</td>\n",
              "      <td>BURGLARY OF VEHICLE</td>\n",
              "      <td>Theft</td>\n",
              "      <td>31-Dec-16</td>\n",
              "      <td>101 HERGOTZ LN                                ...</td>\n",
              "      <td>N</td>\n",
              "      <td>12-Jan-17</td>\n",
              "      <td>H</td>\n",
              "      <td>78742.0</td>\n",
              "      <td>23.10</td>\n",
              "      <td>3131778.0</td>\n",
              "      <td>10062481.0</td>\n",
              "    </tr>\n",
              "    <tr>\n",
              "      <th>37460</th>\n",
              "      <td>2.016801e+10</td>\n",
              "      <td>9.0</td>\n",
              "      <td>BURGLARY OF VEHICLE</td>\n",
              "      <td>Theft</td>\n",
              "      <td>31-Dec-16</td>\n",
              "      <td>701 W 28TH ST                                 ...</td>\n",
              "      <td>N</td>\n",
              "      <td>16-Jan-17</td>\n",
              "      <td>B</td>\n",
              "      <td>78705.0</td>\n",
              "      <td>6.03</td>\n",
              "      <td>3113521.0</td>\n",
              "      <td>10079906.0</td>\n",
              "    </tr>\n",
              "  </tbody>\n",
              "</table>\n",
              "<p>37461 rows × 13 columns</p>\n",
              "</div>"
            ],
            "text/plain": [
              "       GO Primary Key  Council District  ... GO X Coordinate GO Y Coordinate\n",
              "0        2.016102e+08               8.0  ...       3067322.0      10062796.0\n",
              "1        2.016106e+08               9.0  ...       3114957.0      10070462.0\n",
              "2        2.016109e+08               4.0  ...       3129181.0      10106923.0\n",
              "3        2.016109e+08               9.0  ...       3113643.0      10070357.0\n",
              "4        2.016110e+08               4.0  ...             NaN             NaN\n",
              "...               ...               ...  ...             ...             ...\n",
              "37456    2.016505e+10               7.0  ...       3117454.0      10109065.0\n",
              "37457    2.016505e+10               9.0  ...       3113924.0      10070794.0\n",
              "37458    2.016801e+10               1.0  ...       3132812.0      10084356.0\n",
              "37459    2.016801e+10               3.0  ...       3131778.0      10062481.0\n",
              "37460    2.016801e+10               9.0  ...       3113521.0      10079906.0\n",
              "\n",
              "[37461 rows x 13 columns]"
            ]
          },
          "metadata": {
            "tags": []
          },
          "execution_count": 13
        }
      ]
    },
    {
      "cell_type": "markdown",
      "metadata": {
        "id": "6Kx6lE3pzzoV",
        "colab_type": "text"
      },
      "source": [
        "#Cleaning Data\n"
      ]
    },
    {
      "cell_type": "code",
      "metadata": {
        "id": "WKPDL1OIzSxp",
        "colab_type": "code",
        "colab": {}
      },
      "source": [
        "df = df.drop(['GO Primary Key', 'GO Census Tract', 'GO Location'],1)\n"
      ],
      "execution_count": null,
      "outputs": []
    },
    {
      "cell_type": "code",
      "metadata": {
        "id": "roSG8smw2a7r",
        "colab_type": "code",
        "colab": {
          "base_uri": "https://localhost:8080/",
          "height": 595
        },
        "outputId": "afda11d6-1b70-4aa0-97b2-ce60ac6dc207"
      },
      "source": [
        "df.columns = ['council_district', 'apd_desc', 'fbi_desc', 'report_date', 'clearance_status', 'clearance_date', 'district', 'location_zip', 'x', 'y']\n",
        "df"
      ],
      "execution_count": null,
      "outputs": [
        {
          "output_type": "execute_result",
          "data": {
            "text/html": [
              "<div>\n",
              "<style scoped>\n",
              "    .dataframe tbody tr th:only-of-type {\n",
              "        vertical-align: middle;\n",
              "    }\n",
              "\n",
              "    .dataframe tbody tr th {\n",
              "        vertical-align: top;\n",
              "    }\n",
              "\n",
              "    .dataframe thead th {\n",
              "        text-align: right;\n",
              "    }\n",
              "</style>\n",
              "<table border=\"1\" class=\"dataframe\">\n",
              "  <thead>\n",
              "    <tr style=\"text-align: right;\">\n",
              "      <th></th>\n",
              "      <th>council_district</th>\n",
              "      <th>apd_desc</th>\n",
              "      <th>fbi_desc</th>\n",
              "      <th>report_date</th>\n",
              "      <th>clearance_status</th>\n",
              "      <th>clearance_date</th>\n",
              "      <th>district</th>\n",
              "      <th>location_zip</th>\n",
              "      <th>x</th>\n",
              "      <th>y</th>\n",
              "    </tr>\n",
              "  </thead>\n",
              "  <tbody>\n",
              "    <tr>\n",
              "      <th>0</th>\n",
              "      <td>8.0</td>\n",
              "      <td>AGG ASLT ENHANC STRANGL/SUFFOC</td>\n",
              "      <td>Agg Assault</td>\n",
              "      <td>1-Jan-16</td>\n",
              "      <td>C</td>\n",
              "      <td>12-Jan-16</td>\n",
              "      <td>D</td>\n",
              "      <td>78735.0</td>\n",
              "      <td>3067322.0</td>\n",
              "      <td>10062796.0</td>\n",
              "    </tr>\n",
              "    <tr>\n",
              "      <th>1</th>\n",
              "      <td>9.0</td>\n",
              "      <td>THEFT</td>\n",
              "      <td>Theft</td>\n",
              "      <td>1-Jan-16</td>\n",
              "      <td>C</td>\n",
              "      <td>4-Jan-16</td>\n",
              "      <td>G</td>\n",
              "      <td>78701.0</td>\n",
              "      <td>3114957.0</td>\n",
              "      <td>10070462.0</td>\n",
              "    </tr>\n",
              "    <tr>\n",
              "      <th>2</th>\n",
              "      <td>4.0</td>\n",
              "      <td>AGG ROBBERY/DEADLY WEAPON</td>\n",
              "      <td>Robbery</td>\n",
              "      <td>1-Jan-16</td>\n",
              "      <td>N</td>\n",
              "      <td>3-May-16</td>\n",
              "      <td>E</td>\n",
              "      <td>78753.0</td>\n",
              "      <td>3129181.0</td>\n",
              "      <td>10106923.0</td>\n",
              "    </tr>\n",
              "    <tr>\n",
              "      <th>3</th>\n",
              "      <td>9.0</td>\n",
              "      <td>THEFT</td>\n",
              "      <td>Theft</td>\n",
              "      <td>1-Jan-16</td>\n",
              "      <td>N</td>\n",
              "      <td>22-Jan-16</td>\n",
              "      <td>G</td>\n",
              "      <td>78701.0</td>\n",
              "      <td>3113643.0</td>\n",
              "      <td>10070357.0</td>\n",
              "    </tr>\n",
              "    <tr>\n",
              "      <th>4</th>\n",
              "      <td>4.0</td>\n",
              "      <td>SEXUAL ASSAULT W/ OBJECT</td>\n",
              "      <td>Rape</td>\n",
              "      <td>1-Jan-16</td>\n",
              "      <td>C</td>\n",
              "      <td>10-Mar-16</td>\n",
              "      <td>E</td>\n",
              "      <td>78753.0</td>\n",
              "      <td>NaN</td>\n",
              "      <td>NaN</td>\n",
              "    </tr>\n",
              "    <tr>\n",
              "      <th>...</th>\n",
              "      <td>...</td>\n",
              "      <td>...</td>\n",
              "      <td>...</td>\n",
              "      <td>...</td>\n",
              "      <td>...</td>\n",
              "      <td>...</td>\n",
              "      <td>...</td>\n",
              "      <td>...</td>\n",
              "      <td>...</td>\n",
              "      <td>...</td>\n",
              "    </tr>\n",
              "    <tr>\n",
              "      <th>37456</th>\n",
              "      <td>7.0</td>\n",
              "      <td>THEFT</td>\n",
              "      <td>Theft</td>\n",
              "      <td>31-Dec-16</td>\n",
              "      <td>N</td>\n",
              "      <td>3-Jan-17</td>\n",
              "      <td>B</td>\n",
              "      <td>78757.0</td>\n",
              "      <td>3117454.0</td>\n",
              "      <td>10109065.0</td>\n",
              "    </tr>\n",
              "    <tr>\n",
              "      <th>37457</th>\n",
              "      <td>9.0</td>\n",
              "      <td>THEFT</td>\n",
              "      <td>Theft</td>\n",
              "      <td>31-Dec-16</td>\n",
              "      <td>N</td>\n",
              "      <td>3-Jan-17</td>\n",
              "      <td>G</td>\n",
              "      <td>78701.0</td>\n",
              "      <td>3113924.0</td>\n",
              "      <td>10070794.0</td>\n",
              "    </tr>\n",
              "    <tr>\n",
              "      <th>37458</th>\n",
              "      <td>1.0</td>\n",
              "      <td>BURGLARY OF VEHICLE</td>\n",
              "      <td>Theft</td>\n",
              "      <td>31-Dec-16</td>\n",
              "      <td>N</td>\n",
              "      <td>16-Jan-17</td>\n",
              "      <td>I</td>\n",
              "      <td>78723.0</td>\n",
              "      <td>3132812.0</td>\n",
              "      <td>10084356.0</td>\n",
              "    </tr>\n",
              "    <tr>\n",
              "      <th>37459</th>\n",
              "      <td>3.0</td>\n",
              "      <td>BURGLARY OF VEHICLE</td>\n",
              "      <td>Theft</td>\n",
              "      <td>31-Dec-16</td>\n",
              "      <td>N</td>\n",
              "      <td>12-Jan-17</td>\n",
              "      <td>H</td>\n",
              "      <td>78742.0</td>\n",
              "      <td>3131778.0</td>\n",
              "      <td>10062481.0</td>\n",
              "    </tr>\n",
              "    <tr>\n",
              "      <th>37460</th>\n",
              "      <td>9.0</td>\n",
              "      <td>BURGLARY OF VEHICLE</td>\n",
              "      <td>Theft</td>\n",
              "      <td>31-Dec-16</td>\n",
              "      <td>N</td>\n",
              "      <td>16-Jan-17</td>\n",
              "      <td>B</td>\n",
              "      <td>78705.0</td>\n",
              "      <td>3113521.0</td>\n",
              "      <td>10079906.0</td>\n",
              "    </tr>\n",
              "  </tbody>\n",
              "</table>\n",
              "<p>37461 rows × 10 columns</p>\n",
              "</div>"
            ],
            "text/plain": [
              "       council_district                        apd_desc  ...          x           y\n",
              "0                   8.0  AGG ASLT ENHANC STRANGL/SUFFOC  ...  3067322.0  10062796.0\n",
              "1                   9.0  THEFT                           ...  3114957.0  10070462.0\n",
              "2                   4.0  AGG ROBBERY/DEADLY WEAPON       ...  3129181.0  10106923.0\n",
              "3                   9.0  THEFT                           ...  3113643.0  10070357.0\n",
              "4                   4.0  SEXUAL ASSAULT W/ OBJECT        ...        NaN         NaN\n",
              "...                 ...                             ...  ...        ...         ...\n",
              "37456               7.0  THEFT                           ...  3117454.0  10109065.0\n",
              "37457               9.0  THEFT                           ...  3113924.0  10070794.0\n",
              "37458               1.0  BURGLARY OF VEHICLE             ...  3132812.0  10084356.0\n",
              "37459               3.0  BURGLARY OF VEHICLE             ...  3131778.0  10062481.0\n",
              "37460               9.0  BURGLARY OF VEHICLE             ...  3113521.0  10079906.0\n",
              "\n",
              "[37461 rows x 10 columns]"
            ]
          },
          "metadata": {
            "tags": []
          },
          "execution_count": 15
        }
      ]
    },
    {
      "cell_type": "code",
      "metadata": {
        "id": "nnBSYVuXzrm0",
        "colab_type": "code",
        "colab": {
          "base_uri": "https://localhost:8080/",
          "height": 187
        },
        "outputId": "d6b04631-1aa2-4114-971a-d284af502b56"
      },
      "source": [
        "for col in df.columns:\n",
        "  percent = 100 * df[col].isna().sum() / df.shape[0]\n",
        "  percent = round(percent,2)\n",
        "  print(f'{col}: {df[col].isna().sum()} ({percent}%) missing values')"
      ],
      "execution_count": null,
      "outputs": [
        {
          "output_type": "stream",
          "text": [
            "council_district: 256 (0.68%) missing values\n",
            "apd_desc: 0 (0.0%) missing values\n",
            "fbi_desc: 0 (0.0%) missing values\n",
            "report_date: 0 (0.0%) missing values\n",
            "clearance_status: 1719 (4.59%) missing values\n",
            "clearance_date: 1719 (4.59%) missing values\n",
            "district: 0 (0.0%) missing values\n",
            "location_zip: 167 (0.45%) missing values\n",
            "x: 867 (2.31%) missing values\n",
            "y: 867 (2.31%) missing values\n"
          ],
          "name": "stdout"
        }
      ]
    },
    {
      "cell_type": "code",
      "metadata": {
        "id": "NZT6k_RT3Nwn",
        "colab_type": "code",
        "colab": {}
      },
      "source": [
        "df = df.dropna()"
      ],
      "execution_count": null,
      "outputs": []
    },
    {
      "cell_type": "code",
      "metadata": {
        "id": "3KGvmbo43n1Z",
        "colab_type": "code",
        "colab": {
          "base_uri": "https://localhost:8080/",
          "height": 187
        },
        "outputId": "baef92a4-ec57-4344-af55-8dc3e17427f2"
      },
      "source": [
        "#Check that all rows with missing values were dropped\n",
        "for col in df.columns:\n",
        "  percent = 100 * df[col].isna().sum() / df.shape[0]\n",
        "  percent = round(percent,2)\n",
        "  print(f'{col}: {df[col].isna().sum()} ({percent}%) missing values')"
      ],
      "execution_count": null,
      "outputs": [
        {
          "output_type": "stream",
          "text": [
            "council_district: 0 (0.0%) missing values\n",
            "apd_desc: 0 (0.0%) missing values\n",
            "fbi_desc: 0 (0.0%) missing values\n",
            "report_date: 0 (0.0%) missing values\n",
            "clearance_status: 0 (0.0%) missing values\n",
            "clearance_date: 0 (0.0%) missing values\n",
            "district: 0 (0.0%) missing values\n",
            "location_zip: 0 (0.0%) missing values\n",
            "x: 0 (0.0%) missing values\n",
            "y: 0 (0.0%) missing values\n"
          ],
          "name": "stdout"
        }
      ]
    },
    {
      "cell_type": "code",
      "metadata": {
        "id": "0f0netU_3rLy",
        "colab_type": "code",
        "colab": {
          "base_uri": "https://localhost:8080/",
          "height": 595
        },
        "outputId": "d138113f-71f7-47e1-f8f5-ffc57f6d2d23"
      },
      "source": [
        "#We dropped 5% of the clearance status and 2 percent of x,y coordinates, which is not too bad\n",
        "#In doing so, we lost an entire fbi_desc (Rape). We will do analysis with this separately\n",
        "df"
      ],
      "execution_count": null,
      "outputs": [
        {
          "output_type": "execute_result",
          "data": {
            "text/html": [
              "<div>\n",
              "<style scoped>\n",
              "    .dataframe tbody tr th:only-of-type {\n",
              "        vertical-align: middle;\n",
              "    }\n",
              "\n",
              "    .dataframe tbody tr th {\n",
              "        vertical-align: top;\n",
              "    }\n",
              "\n",
              "    .dataframe thead th {\n",
              "        text-align: right;\n",
              "    }\n",
              "</style>\n",
              "<table border=\"1\" class=\"dataframe\">\n",
              "  <thead>\n",
              "    <tr style=\"text-align: right;\">\n",
              "      <th></th>\n",
              "      <th>council_district</th>\n",
              "      <th>apd_desc</th>\n",
              "      <th>fbi_desc</th>\n",
              "      <th>report_date</th>\n",
              "      <th>clearance_status</th>\n",
              "      <th>clearance_date</th>\n",
              "      <th>district</th>\n",
              "      <th>location_zip</th>\n",
              "      <th>x</th>\n",
              "      <th>y</th>\n",
              "    </tr>\n",
              "  </thead>\n",
              "  <tbody>\n",
              "    <tr>\n",
              "      <th>0</th>\n",
              "      <td>8.0</td>\n",
              "      <td>AGG ASLT ENHANC STRANGL/SUFFOC</td>\n",
              "      <td>Agg Assault</td>\n",
              "      <td>1-Jan-16</td>\n",
              "      <td>C</td>\n",
              "      <td>12-Jan-16</td>\n",
              "      <td>D</td>\n",
              "      <td>78735.0</td>\n",
              "      <td>3067322.0</td>\n",
              "      <td>10062796.0</td>\n",
              "    </tr>\n",
              "    <tr>\n",
              "      <th>1</th>\n",
              "      <td>9.0</td>\n",
              "      <td>THEFT</td>\n",
              "      <td>Theft</td>\n",
              "      <td>1-Jan-16</td>\n",
              "      <td>C</td>\n",
              "      <td>4-Jan-16</td>\n",
              "      <td>G</td>\n",
              "      <td>78701.0</td>\n",
              "      <td>3114957.0</td>\n",
              "      <td>10070462.0</td>\n",
              "    </tr>\n",
              "    <tr>\n",
              "      <th>2</th>\n",
              "      <td>4.0</td>\n",
              "      <td>AGG ROBBERY/DEADLY WEAPON</td>\n",
              "      <td>Robbery</td>\n",
              "      <td>1-Jan-16</td>\n",
              "      <td>N</td>\n",
              "      <td>3-May-16</td>\n",
              "      <td>E</td>\n",
              "      <td>78753.0</td>\n",
              "      <td>3129181.0</td>\n",
              "      <td>10106923.0</td>\n",
              "    </tr>\n",
              "    <tr>\n",
              "      <th>3</th>\n",
              "      <td>9.0</td>\n",
              "      <td>THEFT</td>\n",
              "      <td>Theft</td>\n",
              "      <td>1-Jan-16</td>\n",
              "      <td>N</td>\n",
              "      <td>22-Jan-16</td>\n",
              "      <td>G</td>\n",
              "      <td>78701.0</td>\n",
              "      <td>3113643.0</td>\n",
              "      <td>10070357.0</td>\n",
              "    </tr>\n",
              "    <tr>\n",
              "      <th>5</th>\n",
              "      <td>1.0</td>\n",
              "      <td>DEADLY CONDUCT</td>\n",
              "      <td>Agg Assault</td>\n",
              "      <td>1-Jan-16</td>\n",
              "      <td>N</td>\n",
              "      <td>8-Jan-16</td>\n",
              "      <td>C</td>\n",
              "      <td>78724.0</td>\n",
              "      <td>3146947.0</td>\n",
              "      <td>10077985.0</td>\n",
              "    </tr>\n",
              "    <tr>\n",
              "      <th>...</th>\n",
              "      <td>...</td>\n",
              "      <td>...</td>\n",
              "      <td>...</td>\n",
              "      <td>...</td>\n",
              "      <td>...</td>\n",
              "      <td>...</td>\n",
              "      <td>...</td>\n",
              "      <td>...</td>\n",
              "      <td>...</td>\n",
              "      <td>...</td>\n",
              "    </tr>\n",
              "    <tr>\n",
              "      <th>37456</th>\n",
              "      <td>7.0</td>\n",
              "      <td>THEFT</td>\n",
              "      <td>Theft</td>\n",
              "      <td>31-Dec-16</td>\n",
              "      <td>N</td>\n",
              "      <td>3-Jan-17</td>\n",
              "      <td>B</td>\n",
              "      <td>78757.0</td>\n",
              "      <td>3117454.0</td>\n",
              "      <td>10109065.0</td>\n",
              "    </tr>\n",
              "    <tr>\n",
              "      <th>37457</th>\n",
              "      <td>9.0</td>\n",
              "      <td>THEFT</td>\n",
              "      <td>Theft</td>\n",
              "      <td>31-Dec-16</td>\n",
              "      <td>N</td>\n",
              "      <td>3-Jan-17</td>\n",
              "      <td>G</td>\n",
              "      <td>78701.0</td>\n",
              "      <td>3113924.0</td>\n",
              "      <td>10070794.0</td>\n",
              "    </tr>\n",
              "    <tr>\n",
              "      <th>37458</th>\n",
              "      <td>1.0</td>\n",
              "      <td>BURGLARY OF VEHICLE</td>\n",
              "      <td>Theft</td>\n",
              "      <td>31-Dec-16</td>\n",
              "      <td>N</td>\n",
              "      <td>16-Jan-17</td>\n",
              "      <td>I</td>\n",
              "      <td>78723.0</td>\n",
              "      <td>3132812.0</td>\n",
              "      <td>10084356.0</td>\n",
              "    </tr>\n",
              "    <tr>\n",
              "      <th>37459</th>\n",
              "      <td>3.0</td>\n",
              "      <td>BURGLARY OF VEHICLE</td>\n",
              "      <td>Theft</td>\n",
              "      <td>31-Dec-16</td>\n",
              "      <td>N</td>\n",
              "      <td>12-Jan-17</td>\n",
              "      <td>H</td>\n",
              "      <td>78742.0</td>\n",
              "      <td>3131778.0</td>\n",
              "      <td>10062481.0</td>\n",
              "    </tr>\n",
              "    <tr>\n",
              "      <th>37460</th>\n",
              "      <td>9.0</td>\n",
              "      <td>BURGLARY OF VEHICLE</td>\n",
              "      <td>Theft</td>\n",
              "      <td>31-Dec-16</td>\n",
              "      <td>N</td>\n",
              "      <td>16-Jan-17</td>\n",
              "      <td>B</td>\n",
              "      <td>78705.0</td>\n",
              "      <td>3113521.0</td>\n",
              "      <td>10079906.0</td>\n",
              "    </tr>\n",
              "  </tbody>\n",
              "</table>\n",
              "<p>34885 rows × 10 columns</p>\n",
              "</div>"
            ],
            "text/plain": [
              "       council_district                        apd_desc  ...          x           y\n",
              "0                   8.0  AGG ASLT ENHANC STRANGL/SUFFOC  ...  3067322.0  10062796.0\n",
              "1                   9.0  THEFT                           ...  3114957.0  10070462.0\n",
              "2                   4.0  AGG ROBBERY/DEADLY WEAPON       ...  3129181.0  10106923.0\n",
              "3                   9.0  THEFT                           ...  3113643.0  10070357.0\n",
              "5                   1.0  DEADLY CONDUCT                  ...  3146947.0  10077985.0\n",
              "...                 ...                             ...  ...        ...         ...\n",
              "37456               7.0  THEFT                           ...  3117454.0  10109065.0\n",
              "37457               9.0  THEFT                           ...  3113924.0  10070794.0\n",
              "37458               1.0  BURGLARY OF VEHICLE             ...  3132812.0  10084356.0\n",
              "37459               3.0  BURGLARY OF VEHICLE             ...  3131778.0  10062481.0\n",
              "37460               9.0  BURGLARY OF VEHICLE             ...  3113521.0  10079906.0\n",
              "\n",
              "[34885 rows x 10 columns]"
            ]
          },
          "metadata": {
            "tags": []
          },
          "execution_count": 19
        }
      ]
    },
    {
      "cell_type": "code",
      "metadata": {
        "id": "JYnI3M_64LtK",
        "colab_type": "code",
        "colab": {
          "base_uri": "https://localhost:8080/",
          "height": 363
        },
        "outputId": "30769db5-4e96-470a-b128-4b5d781e1013"
      },
      "source": [
        "df['apd_desc'] = df['apd_desc'].str.strip()\n",
        "df['fbi_desc'] = df['fbi_desc'].str.strip()\n",
        "df['clearance_status'] = df['clearance_status'].str.strip()"
      ],
      "execution_count": null,
      "outputs": [
        {
          "output_type": "stream",
          "text": [
            "/usr/local/lib/python3.6/dist-packages/ipykernel_launcher.py:1: SettingWithCopyWarning: \n",
            "A value is trying to be set on a copy of a slice from a DataFrame.\n",
            "Try using .loc[row_indexer,col_indexer] = value instead\n",
            "\n",
            "See the caveats in the documentation: https://pandas.pydata.org/pandas-docs/stable/user_guide/indexing.html#returning-a-view-versus-a-copy\n",
            "  \"\"\"Entry point for launching an IPython kernel.\n",
            "/usr/local/lib/python3.6/dist-packages/ipykernel_launcher.py:2: SettingWithCopyWarning: \n",
            "A value is trying to be set on a copy of a slice from a DataFrame.\n",
            "Try using .loc[row_indexer,col_indexer] = value instead\n",
            "\n",
            "See the caveats in the documentation: https://pandas.pydata.org/pandas-docs/stable/user_guide/indexing.html#returning-a-view-versus-a-copy\n",
            "  \n",
            "/usr/local/lib/python3.6/dist-packages/ipykernel_launcher.py:3: SettingWithCopyWarning: \n",
            "A value is trying to be set on a copy of a slice from a DataFrame.\n",
            "Try using .loc[row_indexer,col_indexer] = value instead\n",
            "\n",
            "See the caveats in the documentation: https://pandas.pydata.org/pandas-docs/stable/user_guide/indexing.html#returning-a-view-versus-a-copy\n",
            "  This is separate from the ipykernel package so we can avoid doing imports until\n"
          ],
          "name": "stderr"
        }
      ]
    },
    {
      "cell_type": "code",
      "metadata": {
        "id": "v5EEikft5CI8",
        "colab_type": "code",
        "colab": {
          "base_uri": "https://localhost:8080/",
          "height": 221
        },
        "outputId": "06b76b30-8619-4079-ea41-916af8358e05"
      },
      "source": [
        "#88 might be a typo for district\n",
        "df['district'].value_counts()"
      ],
      "execution_count": null,
      "outputs": [
        {
          "output_type": "execute_result",
          "data": {
            "text/plain": [
              "D     5040\n",
              "E     4403\n",
              "B     4159\n",
              "F     4154\n",
              "I     4065\n",
              "H     3955\n",
              "A     3790\n",
              "C     2646\n",
              "G     2518\n",
              "AP     154\n",
              "88       1\n",
              "Name: district, dtype: int64"
            ]
          },
          "metadata": {
            "tags": []
          },
          "execution_count": 21
        }
      ]
    },
    {
      "cell_type": "code",
      "metadata": {
        "id": "61xL3mYe4_Vn",
        "colab_type": "code",
        "colab": {
          "base_uri": "https://localhost:8080/",
          "height": 204
        },
        "outputId": "78150c0b-31bb-4a24-95f5-75751b58acb4"
      },
      "source": [
        "df.dtypes"
      ],
      "execution_count": null,
      "outputs": [
        {
          "output_type": "execute_result",
          "data": {
            "text/plain": [
              "council_district    float64\n",
              "apd_desc             object\n",
              "fbi_desc             object\n",
              "report_date          object\n",
              "clearance_status     object\n",
              "clearance_date       object\n",
              "district             object\n",
              "location_zip        float64\n",
              "x                   float64\n",
              "y                   float64\n",
              "dtype: object"
            ]
          },
          "metadata": {
            "tags": []
          },
          "execution_count": 22
        }
      ]
    },
    {
      "cell_type": "code",
      "metadata": {
        "id": "BoIproBT5ZZi",
        "colab_type": "code",
        "colab": {
          "base_uri": "https://localhost:8080/",
          "height": 652
        },
        "outputId": "032e49bc-d08b-4b5f-b4f7-3ad566501845"
      },
      "source": [
        "df['council_district'] = df['council_district'].astype(int)\n",
        "df['location_zip'] = df['location_zip'].astype(int)\n",
        "df['x'] = df['x'].astype(int)\n",
        "df['y'] = df['y'].astype(int)\n",
        "df.dtypes"
      ],
      "execution_count": null,
      "outputs": [
        {
          "output_type": "stream",
          "text": [
            "/usr/local/lib/python3.6/dist-packages/ipykernel_launcher.py:1: SettingWithCopyWarning: \n",
            "A value is trying to be set on a copy of a slice from a DataFrame.\n",
            "Try using .loc[row_indexer,col_indexer] = value instead\n",
            "\n",
            "See the caveats in the documentation: https://pandas.pydata.org/pandas-docs/stable/user_guide/indexing.html#returning-a-view-versus-a-copy\n",
            "  \"\"\"Entry point for launching an IPython kernel.\n",
            "/usr/local/lib/python3.6/dist-packages/ipykernel_launcher.py:2: SettingWithCopyWarning: \n",
            "A value is trying to be set on a copy of a slice from a DataFrame.\n",
            "Try using .loc[row_indexer,col_indexer] = value instead\n",
            "\n",
            "See the caveats in the documentation: https://pandas.pydata.org/pandas-docs/stable/user_guide/indexing.html#returning-a-view-versus-a-copy\n",
            "  \n",
            "/usr/local/lib/python3.6/dist-packages/ipykernel_launcher.py:3: SettingWithCopyWarning: \n",
            "A value is trying to be set on a copy of a slice from a DataFrame.\n",
            "Try using .loc[row_indexer,col_indexer] = value instead\n",
            "\n",
            "See the caveats in the documentation: https://pandas.pydata.org/pandas-docs/stable/user_guide/indexing.html#returning-a-view-versus-a-copy\n",
            "  This is separate from the ipykernel package so we can avoid doing imports until\n",
            "/usr/local/lib/python3.6/dist-packages/ipykernel_launcher.py:4: SettingWithCopyWarning: \n",
            "A value is trying to be set on a copy of a slice from a DataFrame.\n",
            "Try using .loc[row_indexer,col_indexer] = value instead\n",
            "\n",
            "See the caveats in the documentation: https://pandas.pydata.org/pandas-docs/stable/user_guide/indexing.html#returning-a-view-versus-a-copy\n",
            "  after removing the cwd from sys.path.\n"
          ],
          "name": "stderr"
        },
        {
          "output_type": "execute_result",
          "data": {
            "text/plain": [
              "council_district     int64\n",
              "apd_desc            object\n",
              "fbi_desc            object\n",
              "report_date         object\n",
              "clearance_status    object\n",
              "clearance_date      object\n",
              "district            object\n",
              "location_zip         int64\n",
              "x                    int64\n",
              "y                    int64\n",
              "dtype: object"
            ]
          },
          "metadata": {
            "tags": []
          },
          "execution_count": 23
        }
      ]
    },
    {
      "cell_type": "markdown",
      "metadata": {
        "id": "AZ1YdcKy7Ygg",
        "colab_type": "text"
      },
      "source": [
        "#Percent Crime"
      ]
    },
    {
      "cell_type": "code",
      "metadata": {
        "id": "zRrneK4Y7a1N",
        "colab_type": "code",
        "colab": {
          "base_uri": "https://localhost:8080/",
          "height": 799
        },
        "outputId": "9359a2d5-ea37-4bb4-c669-96678cfec95e"
      },
      "source": [
        "#finds the number or percent of total crimes in a zip code\n",
        "zip_list = df['location_zip'].unique()\n",
        "for zip in zip_list:\n",
        "  percent = df[df['location_zip'] == zip].shape[0]/df.shape[0]\n",
        "  count = df[df['location_zip'] == zip].shape[0]\n",
        "  print(f'Zip code {zip} has {percent} of total crimes')\n"
      ],
      "execution_count": null,
      "outputs": [
        {
          "output_type": "stream",
          "text": [
            "Zip code 78735 has 0.007739716210405618 of total crimes\n",
            "Zip code 78701 has 0.05627060341120826 of total crimes\n",
            "Zip code 78753 has 0.08324494768525154 of total crimes\n",
            "Zip code 78724 has 0.01450480149061201 of total crimes\n",
            "Zip code 78741 has 0.08946538626917012 of total crimes\n",
            "Zip code 78704 has 0.06822416511394583 of total crimes\n",
            "Zip code 78748 has 0.03649132865128279 of total crimes\n",
            "Zip code 78758 has 0.06538626917013043 of total crimes\n",
            "Zip code 78744 has 0.05179876737852945 of total crimes\n",
            "Zip code 78747 has 0.006077110505948115 of total crimes\n",
            "Zip code 78756 has 0.009172996990110363 of total crimes\n",
            "Zip code 78759 has 0.032019492618603984 of total crimes\n",
            "Zip code 78723 has 0.05618460656442597 of total crimes\n",
            "Zip code 78745 has 0.06042711767235202 of total crimes\n",
            "Zip code 78749 has 0.021155224308442022 of total crimes\n",
            "Zip code 78751 has 0.02531173856958578 of total crimes\n",
            "Zip code 78752 has 0.03523004156514261 of total crimes\n",
            "Zip code 78731 has 0.014246810950265157 of total crimes\n",
            "Zip code 78702 has 0.04291242654436004 of total crimes\n",
            "Zip code 78722 has 0.007109072667335531 of total crimes\n",
            "Zip code 78705 has 0.03150351153791028 of total crimes\n",
            "Zip code 78757 has 0.03004156514261144 of total crimes\n",
            "Zip code 78721 has 0.01361616740719507 of total crimes\n",
            "Zip code 78739 has 0.004099183029955569 of total crimes\n",
            "Zip code 78729 has 0.014705460799770675 of total crimes\n",
            "Zip code 78613 has 0.008943672065357603 of total crimes\n",
            "Zip code 78617 has 0.00739572882327648 of total crimes\n",
            "Zip code 78746 has 0.021241221155224307 of total crimes\n",
            "Zip code 78750 has 0.008829009602981224 of total crimes\n",
            "Zip code 78719 has 0.004471836032678801 of total crimes\n",
            "Zip code 78703 has 0.018632650136161673 of total crimes\n",
            "Zip code 78736 has 0.0032678801777268167 of total crimes\n",
            "Zip code 78653 has 0.0011179590081697003 of total crimes\n",
            "Zip code 78727 has 0.014160814103482872 of total crimes\n",
            "Zip code 78652 has 0.0004586498495055181 of total crimes\n",
            "Zip code 78754 has 0.01109359323491472 of total crimes\n",
            "Zip code 78726 has 0.0058764511967894515 of total crimes\n",
            "Zip code 78717 has 0.008026372366346568 of total crimes\n",
            "Zip code 78660 has 0.004414504801490612 of total crimes\n",
            "Zip code 78725 has 0.001949261860398452 of total crimes\n",
            "Zip code 78712 has 0.00014332807797047442 of total crimes\n",
            "Zip code 78730 has 0.0013186183173283647 of total crimes\n",
            "Zip code 78742 has 0.0015479432420811238 of total crimes\n",
            "Zip code 78728 has 0.00011466246237637953 of total crimes\n",
            "Zip code 78732 has 2.8665615594094882e-05 of total crimes\n",
            "Zip code 78737 has 2.8665615594094882e-05 of total crimes\n"
          ],
          "name": "stdout"
        }
      ]
    },
    {
      "cell_type": "markdown",
      "metadata": {
        "id": "nFYq-logABIx",
        "colab_type": "text"
      },
      "source": [
        "###78732\n",
        "- suburbs\n",
        "- 75% husband wife family households\n",
        "- majority of houses range $200,000-750,000\n",
        "- 19.4% have no college degree\n",
        "\n",
        "###78737\n",
        "- 75% husband wife family households\n",
        "- majority of houses range $200,000-750,000\n",
        "- 32% do not have college degree\n",
        "- 9% renters"
      ]
    },
    {
      "cell_type": "code",
      "metadata": {
        "id": "GqnrPIFD8mK9",
        "colab_type": "code",
        "colab": {
          "base_uri": "https://localhost:8080/",
          "height": 136
        },
        "outputId": "b6ee4580-42fe-4621-8901-990574462bb4"
      },
      "source": [
        "df['fbi_desc'].value_counts()"
      ],
      "execution_count": null,
      "outputs": [
        {
          "output_type": "execute_result",
          "data": {
            "text/plain": [
              "Theft          24845\n",
              "Burglary        5025\n",
              "Agg Assault     2086\n",
              "Auto Theft      1988\n",
              "Robbery          911\n",
              "Murder            30\n",
              "Name: fbi_desc, dtype: int64"
            ]
          },
          "metadata": {
            "tags": []
          },
          "execution_count": 16
        }
      ]
    },
    {
      "cell_type": "markdown",
      "metadata": {
        "id": "pBOafv36RDPP",
        "colab_type": "text"
      },
      "source": [
        "# Programs\n",
        "  - Creating programs that:\n",
        "    - return a df that has zip and the amount of crimes in that zip\n",
        "    - create a bar chart with the top 5 counts for zip"
      ]
    },
    {
      "cell_type": "code",
      "metadata": {
        "id": "SKJ4dWeeNz3r",
        "colab_type": "code",
        "colab": {}
      },
      "source": [
        "#creates dataframe with two columns 'zip' and 'count', which is how many crimes happened in that zip\n",
        "\n",
        "def create_df(kind):\n",
        "\n",
        "  new_df = df[df['apd_desc'] == kind]\n",
        "  new_list = []\n",
        "  for zip, group in new_df.groupby('location_zip'):\n",
        "    count = group['apd_desc'].count()\n",
        "    new_list.append([zip,count])\n",
        "  \n",
        "  list_df = pd.DataFrame(new_list, columns = ['zip', 'count'])\n",
        "\n",
        "  return list_df"
      ],
      "execution_count": null,
      "outputs": []
    },
    {
      "cell_type": "code",
      "metadata": {
        "id": "bka3uK7-oZoV",
        "colab_type": "code",
        "colab": {}
      },
      "source": [
        "# creates bar chart with top 5 zip codes in that crime and the percentage for that category\n",
        "# cannot make the figsize bigger bc when we save it, the graph gets cut off\n",
        "def bar_chart(c_df, name, category, subcategory, n = 5):\n",
        "  c_df.nlargest(n, ['count']).plot(kind = 'barh', x = 'zip', y = 'count', title = name)\n",
        "\n",
        "  x_ax = c_df.nlargest(n,['count'])['count'].tolist()\n",
        "\n",
        "  total_df = df[df['fbi_desc'] == category]\n",
        "  subtotal = total_df[total_df['apd_desc'] == subcategory].shape[0]\n",
        "  for index, value in enumerate(x_ax):\n",
        "    perc = round(value/subtotal*100,2)\n",
        "    plt.text(value, index, str(perc) + '%')\n",
        "  \n",
        "  plt.tight_layout()"
      ],
      "execution_count": null,
      "outputs": []
    },
    {
      "cell_type": "markdown",
      "metadata": {
        "id": "5F4t3431bofJ",
        "colab_type": "text"
      },
      "source": [
        "##Here we will be finding the top 5 zip codes in each subsection in terms of count and percentage of that apd_desc"
      ]
    },
    {
      "cell_type": "markdown",
      "metadata": {
        "id": "viQlLHNtFqwY",
        "colab_type": "text"
      },
      "source": [
        "#ZIP Theft"
      ]
    },
    {
      "cell_type": "code",
      "metadata": {
        "id": "OcOsUhsmFu6o",
        "colab_type": "code",
        "colab": {
          "base_uri": "https://localhost:8080/",
          "height": 159
        },
        "outputId": "076947bd-2413-4bae-e9b8-c52b3f0a88b1"
      },
      "source": [
        "df['fbi_desc'] = df['fbi_desc'].replace(['Auto Theft'], 'Theft')"
      ],
      "execution_count": null,
      "outputs": [
        {
          "output_type": "stream",
          "text": [
            "/usr/local/lib/python3.6/dist-packages/ipykernel_launcher.py:1: SettingWithCopyWarning: \n",
            "A value is trying to be set on a copy of a slice from a DataFrame.\n",
            "Try using .loc[row_indexer,col_indexer] = value instead\n",
            "\n",
            "See the caveats in the documentation: https://pandas.pydata.org/pandas-docs/stable/user_guide/indexing.html#returning-a-view-versus-a-copy\n",
            "  \"\"\"Entry point for launching an IPython kernel.\n"
          ],
          "name": "stderr"
        }
      ]
    },
    {
      "cell_type": "code",
      "metadata": {
        "id": "fVR79PorFy7r",
        "colab_type": "code",
        "colab": {
          "base_uri": "https://localhost:8080/",
          "height": 159
        },
        "outputId": "343bd34f-889b-4770-c22e-fbe84168192e"
      },
      "source": [
        "df['apd_desc'] = df['apd_desc'].replace(['BURGLARY OF VEHICLE','THEFT FROM AUTO', 'THEFT OF LICENSE PLATE', 'THEFT OF AUTO PARTS'], 'AUTO THEFT')"
      ],
      "execution_count": null,
      "outputs": [
        {
          "output_type": "stream",
          "text": [
            "/usr/local/lib/python3.6/dist-packages/ipykernel_launcher.py:1: SettingWithCopyWarning: \n",
            "A value is trying to be set on a copy of a slice from a DataFrame.\n",
            "Try using .loc[row_indexer,col_indexer] = value instead\n",
            "\n",
            "See the caveats in the documentation: https://pandas.pydata.org/pandas-docs/stable/user_guide/indexing.html#returning-a-view-versus-a-copy\n",
            "  \"\"\"Entry point for launching an IPython kernel.\n"
          ],
          "name": "stderr"
        }
      ]
    },
    {
      "cell_type": "markdown",
      "metadata": {
        "id": "uw7AaYq1znMU",
        "colab_type": "text"
      },
      "source": [
        "###Auto Theft"
      ]
    },
    {
      "cell_type": "code",
      "metadata": {
        "id": "EQQ-QU1AOoGT",
        "colab_type": "code",
        "colab": {
          "base_uri": "https://localhost:8080/",
          "height": 164
        },
        "outputId": "76ef5dcb-468e-42f0-d755-1be9159754c5"
      },
      "source": [
        "auto_df = create_df('AUTO THEFT')"
      ],
      "execution_count": null,
      "outputs": [
        {
          "output_type": "error",
          "ename": "NameError",
          "evalue": "ignored",
          "traceback": [
            "\u001b[0;31m---------------------------------------------------------------------------\u001b[0m",
            "\u001b[0;31mNameError\u001b[0m                                 Traceback (most recent call last)",
            "\u001b[0;32m<ipython-input-1-45765e7478a6>\u001b[0m in \u001b[0;36m<module>\u001b[0;34m()\u001b[0m\n\u001b[0;32m----> 1\u001b[0;31m \u001b[0mauto_df\u001b[0m \u001b[0;34m=\u001b[0m \u001b[0mcreate_df\u001b[0m\u001b[0;34m(\u001b[0m\u001b[0;34m'AUTO THEFT'\u001b[0m\u001b[0;34m)\u001b[0m\u001b[0;34m\u001b[0m\u001b[0;34m\u001b[0m\u001b[0m\n\u001b[0m",
            "\u001b[0;31mNameError\u001b[0m: name 'create_df' is not defined"
          ]
        }
      ]
    },
    {
      "cell_type": "code",
      "metadata": {
        "id": "M4_gMd6JSF6F",
        "colab_type": "code",
        "colab": {
          "base_uri": "https://localhost:8080/",
          "height": 655
        },
        "outputId": "f6352cc5-2bbe-4c88-c519-39fa9a1e1555"
      },
      "source": [
        "bar_chart(auto_df, 'Auto Theft', 'Theft', 'AUTO THEFT')\n",
        "plt.savefig(graph_folder + 'graphs/auto_theft_bar.eps', format = 'eps')"
      ],
      "execution_count": null,
      "outputs": [
        {
          "output_type": "stream",
          "text": [
            "The PostScript backend does not support transparency; partially transparent artists will be rendered opaque.\n",
            "The PostScript backend does not support transparency; partially transparent artists will be rendered opaque.\n"
          ],
          "name": "stderr"
        },
        {
          "output_type": "error",
          "ename": "FileNotFoundError",
          "evalue": "ignored",
          "traceback": [
            "\u001b[0;31m---------------------------------------------------------------------------\u001b[0m",
            "\u001b[0;31mFileNotFoundError\u001b[0m                         Traceback (most recent call last)",
            "\u001b[0;32m<ipython-input-23-ced84b4c955a>\u001b[0m in \u001b[0;36m<module>\u001b[0;34m()\u001b[0m\n\u001b[1;32m      1\u001b[0m \u001b[0mbar_chart\u001b[0m\u001b[0;34m(\u001b[0m\u001b[0mauto_df\u001b[0m\u001b[0;34m,\u001b[0m \u001b[0;34m'Auto Theft'\u001b[0m\u001b[0;34m,\u001b[0m \u001b[0;34m'Theft'\u001b[0m\u001b[0;34m,\u001b[0m \u001b[0;34m'AUTO THEFT'\u001b[0m\u001b[0;34m)\u001b[0m\u001b[0;34m\u001b[0m\u001b[0;34m\u001b[0m\u001b[0m\n\u001b[0;32m----> 2\u001b[0;31m \u001b[0mplt\u001b[0m\u001b[0;34m.\u001b[0m\u001b[0msavefig\u001b[0m\u001b[0;34m(\u001b[0m\u001b[0mgraph_folder\u001b[0m \u001b[0;34m+\u001b[0m \u001b[0;34m'graphs/auto_theft_bar.eps'\u001b[0m\u001b[0;34m,\u001b[0m \u001b[0mformat\u001b[0m \u001b[0;34m=\u001b[0m \u001b[0;34m'eps'\u001b[0m\u001b[0;34m)\u001b[0m\u001b[0;34m\u001b[0m\u001b[0;34m\u001b[0m\u001b[0m\n\u001b[0m",
            "\u001b[0;32m/usr/local/lib/python3.6/dist-packages/matplotlib/pyplot.py\u001b[0m in \u001b[0;36msavefig\u001b[0;34m(*args, **kwargs)\u001b[0m\n\u001b[1;32m    721\u001b[0m \u001b[0;32mdef\u001b[0m \u001b[0msavefig\u001b[0m\u001b[0;34m(\u001b[0m\u001b[0;34m*\u001b[0m\u001b[0margs\u001b[0m\u001b[0;34m,\u001b[0m \u001b[0;34m**\u001b[0m\u001b[0mkwargs\u001b[0m\u001b[0;34m)\u001b[0m\u001b[0;34m:\u001b[0m\u001b[0;34m\u001b[0m\u001b[0;34m\u001b[0m\u001b[0m\n\u001b[1;32m    722\u001b[0m     \u001b[0mfig\u001b[0m \u001b[0;34m=\u001b[0m \u001b[0mgcf\u001b[0m\u001b[0;34m(\u001b[0m\u001b[0;34m)\u001b[0m\u001b[0;34m\u001b[0m\u001b[0;34m\u001b[0m\u001b[0m\n\u001b[0;32m--> 723\u001b[0;31m     \u001b[0mres\u001b[0m \u001b[0;34m=\u001b[0m \u001b[0mfig\u001b[0m\u001b[0;34m.\u001b[0m\u001b[0msavefig\u001b[0m\u001b[0;34m(\u001b[0m\u001b[0;34m*\u001b[0m\u001b[0margs\u001b[0m\u001b[0;34m,\u001b[0m \u001b[0;34m**\u001b[0m\u001b[0mkwargs\u001b[0m\u001b[0;34m)\u001b[0m\u001b[0;34m\u001b[0m\u001b[0;34m\u001b[0m\u001b[0m\n\u001b[0m\u001b[1;32m    724\u001b[0m     \u001b[0mfig\u001b[0m\u001b[0;34m.\u001b[0m\u001b[0mcanvas\u001b[0m\u001b[0;34m.\u001b[0m\u001b[0mdraw_idle\u001b[0m\u001b[0;34m(\u001b[0m\u001b[0;34m)\u001b[0m   \u001b[0;31m# need this if 'transparent=True' to reset colors\u001b[0m\u001b[0;34m\u001b[0m\u001b[0;34m\u001b[0m\u001b[0m\n\u001b[1;32m    725\u001b[0m     \u001b[0;32mreturn\u001b[0m \u001b[0mres\u001b[0m\u001b[0;34m\u001b[0m\u001b[0;34m\u001b[0m\u001b[0m\n",
            "\u001b[0;32m/usr/local/lib/python3.6/dist-packages/matplotlib/figure.py\u001b[0m in \u001b[0;36msavefig\u001b[0;34m(self, fname, transparent, **kwargs)\u001b[0m\n\u001b[1;32m   2201\u001b[0m             \u001b[0mself\u001b[0m\u001b[0;34m.\u001b[0m\u001b[0mpatch\u001b[0m\u001b[0;34m.\u001b[0m\u001b[0mset_visible\u001b[0m\u001b[0;34m(\u001b[0m\u001b[0mframeon\u001b[0m\u001b[0;34m)\u001b[0m\u001b[0;34m\u001b[0m\u001b[0;34m\u001b[0m\u001b[0m\n\u001b[1;32m   2202\u001b[0m \u001b[0;34m\u001b[0m\u001b[0m\n\u001b[0;32m-> 2203\u001b[0;31m         \u001b[0mself\u001b[0m\u001b[0;34m.\u001b[0m\u001b[0mcanvas\u001b[0m\u001b[0;34m.\u001b[0m\u001b[0mprint_figure\u001b[0m\u001b[0;34m(\u001b[0m\u001b[0mfname\u001b[0m\u001b[0;34m,\u001b[0m \u001b[0;34m**\u001b[0m\u001b[0mkwargs\u001b[0m\u001b[0;34m)\u001b[0m\u001b[0;34m\u001b[0m\u001b[0;34m\u001b[0m\u001b[0m\n\u001b[0m\u001b[1;32m   2204\u001b[0m \u001b[0;34m\u001b[0m\u001b[0m\n\u001b[1;32m   2205\u001b[0m         \u001b[0;32mif\u001b[0m \u001b[0mframeon\u001b[0m\u001b[0;34m:\u001b[0m\u001b[0;34m\u001b[0m\u001b[0;34m\u001b[0m\u001b[0m\n",
            "\u001b[0;32m/usr/local/lib/python3.6/dist-packages/matplotlib/backend_bases.py\u001b[0m in \u001b[0;36mprint_figure\u001b[0;34m(self, filename, dpi, facecolor, edgecolor, orientation, format, bbox_inches, **kwargs)\u001b[0m\n\u001b[1;32m   2124\u001b[0m                     \u001b[0morientation\u001b[0m\u001b[0;34m=\u001b[0m\u001b[0morientation\u001b[0m\u001b[0;34m,\u001b[0m\u001b[0;34m\u001b[0m\u001b[0;34m\u001b[0m\u001b[0m\n\u001b[1;32m   2125\u001b[0m                     \u001b[0mbbox_inches_restore\u001b[0m\u001b[0;34m=\u001b[0m\u001b[0m_bbox_inches_restore\u001b[0m\u001b[0;34m,\u001b[0m\u001b[0;34m\u001b[0m\u001b[0;34m\u001b[0m\u001b[0m\n\u001b[0;32m-> 2126\u001b[0;31m                     **kwargs)\n\u001b[0m\u001b[1;32m   2127\u001b[0m             \u001b[0;32mfinally\u001b[0m\u001b[0;34m:\u001b[0m\u001b[0;34m\u001b[0m\u001b[0;34m\u001b[0m\u001b[0m\n\u001b[1;32m   2128\u001b[0m                 \u001b[0;32mif\u001b[0m \u001b[0mbbox_inches\u001b[0m \u001b[0;32mand\u001b[0m \u001b[0mrestore_bbox\u001b[0m\u001b[0;34m:\u001b[0m\u001b[0;34m\u001b[0m\u001b[0;34m\u001b[0m\u001b[0m\n",
            "\u001b[0;32m/usr/local/lib/python3.6/dist-packages/matplotlib/backends/backend_ps.py\u001b[0m in \u001b[0;36mprint_eps\u001b[0;34m(self, outfile, *args, **kwargs)\u001b[0m\n\u001b[1;32m    829\u001b[0m \u001b[0;34m\u001b[0m\u001b[0m\n\u001b[1;32m    830\u001b[0m     \u001b[0;32mdef\u001b[0m \u001b[0mprint_eps\u001b[0m\u001b[0;34m(\u001b[0m\u001b[0mself\u001b[0m\u001b[0;34m,\u001b[0m \u001b[0moutfile\u001b[0m\u001b[0;34m,\u001b[0m \u001b[0;34m*\u001b[0m\u001b[0margs\u001b[0m\u001b[0;34m,\u001b[0m \u001b[0;34m**\u001b[0m\u001b[0mkwargs\u001b[0m\u001b[0;34m)\u001b[0m\u001b[0;34m:\u001b[0m\u001b[0;34m\u001b[0m\u001b[0;34m\u001b[0m\u001b[0m\n\u001b[0;32m--> 831\u001b[0;31m         \u001b[0;32mreturn\u001b[0m \u001b[0mself\u001b[0m\u001b[0;34m.\u001b[0m\u001b[0m_print_ps\u001b[0m\u001b[0;34m(\u001b[0m\u001b[0moutfile\u001b[0m\u001b[0;34m,\u001b[0m \u001b[0;34m'eps'\u001b[0m\u001b[0;34m,\u001b[0m \u001b[0;34m*\u001b[0m\u001b[0margs\u001b[0m\u001b[0;34m,\u001b[0m \u001b[0;34m**\u001b[0m\u001b[0mkwargs\u001b[0m\u001b[0;34m)\u001b[0m\u001b[0;34m\u001b[0m\u001b[0;34m\u001b[0m\u001b[0m\n\u001b[0m\u001b[1;32m    832\u001b[0m \u001b[0;34m\u001b[0m\u001b[0m\n\u001b[1;32m    833\u001b[0m     def _print_ps(self, outfile, format, *args,\n",
            "\u001b[0;32m/usr/local/lib/python3.6/dist-packages/matplotlib/backends/backend_ps.py\u001b[0m in \u001b[0;36m_print_ps\u001b[0;34m(self, outfile, format, papertype, dpi, facecolor, edgecolor, orientation, *args, **kwargs)\u001b[0m\n\u001b[1;32m    849\u001b[0m                    self._print_figure)\n\u001b[1;32m    850\u001b[0m         printer(outfile, format, dpi, facecolor, edgecolor,\n\u001b[0;32m--> 851\u001b[0;31m                 orientation, papertype, **kwargs)\n\u001b[0m\u001b[1;32m    852\u001b[0m \u001b[0;34m\u001b[0m\u001b[0m\n\u001b[1;32m    853\u001b[0m     \u001b[0;34m@\u001b[0m\u001b[0mcbook\u001b[0m\u001b[0;34m.\u001b[0m\u001b[0m_delete_parameter\u001b[0m\u001b[0;34m(\u001b[0m\u001b[0;34m\"3.2\"\u001b[0m\u001b[0;34m,\u001b[0m \u001b[0;34m\"dryrun\"\u001b[0m\u001b[0;34m)\u001b[0m\u001b[0;34m\u001b[0m\u001b[0;34m\u001b[0m\u001b[0m\n",
            "\u001b[0;32m/usr/local/lib/python3.6/dist-packages/matplotlib/cbook/deprecation.py\u001b[0m in \u001b[0;36mwrapper\u001b[0;34m(*args, **kwargs)\u001b[0m\n\u001b[1;32m    356\u001b[0m                 \u001b[0;34mf\"%(removal)s.  If any parameter follows {name!r}, they \"\u001b[0m\u001b[0;34m\u001b[0m\u001b[0;34m\u001b[0m\u001b[0m\n\u001b[1;32m    357\u001b[0m                 f\"should be pass as keyword, not positionally.\")\n\u001b[0;32m--> 358\u001b[0;31m         \u001b[0;32mreturn\u001b[0m \u001b[0mfunc\u001b[0m\u001b[0;34m(\u001b[0m\u001b[0;34m*\u001b[0m\u001b[0margs\u001b[0m\u001b[0;34m,\u001b[0m \u001b[0;34m**\u001b[0m\u001b[0mkwargs\u001b[0m\u001b[0;34m)\u001b[0m\u001b[0;34m\u001b[0m\u001b[0;34m\u001b[0m\u001b[0m\n\u001b[0m\u001b[1;32m    359\u001b[0m \u001b[0;34m\u001b[0m\u001b[0m\n\u001b[1;32m    360\u001b[0m     \u001b[0;32mreturn\u001b[0m \u001b[0mwrapper\u001b[0m\u001b[0;34m\u001b[0m\u001b[0;34m\u001b[0m\u001b[0m\n",
            "\u001b[0;32m/usr/local/lib/python3.6/dist-packages/matplotlib/backends/backend_ps.py\u001b[0m in \u001b[0;36m_print_figure\u001b[0;34m(self, outfile, format, dpi, facecolor, edgecolor, orientation, papertype, metadata, dryrun, bbox_inches_restore, **kwargs)\u001b[0m\n\u001b[1;32m   1074\u001b[0m                 \u001b[0mprint_figure_impl\u001b[0m\u001b[0;34m(\u001b[0m\u001b[0mfh\u001b[0m\u001b[0;34m)\u001b[0m\u001b[0;34m\u001b[0m\u001b[0;34m\u001b[0m\u001b[0m\n\u001b[1;32m   1075\u001b[0m             \u001b[0;32melse\u001b[0m\u001b[0;34m:\u001b[0m\u001b[0;34m\u001b[0m\u001b[0;34m\u001b[0m\u001b[0m\n\u001b[0;32m-> 1076\u001b[0;31m                 \u001b[0;32mwith\u001b[0m \u001b[0mopen\u001b[0m\u001b[0;34m(\u001b[0m\u001b[0moutfile\u001b[0m\u001b[0;34m,\u001b[0m \u001b[0;34m'w'\u001b[0m\u001b[0;34m,\u001b[0m \u001b[0mencoding\u001b[0m\u001b[0;34m=\u001b[0m\u001b[0;34m'latin-1'\u001b[0m\u001b[0;34m)\u001b[0m \u001b[0;32mas\u001b[0m \u001b[0mfh\u001b[0m\u001b[0;34m:\u001b[0m\u001b[0;34m\u001b[0m\u001b[0;34m\u001b[0m\u001b[0m\n\u001b[0m\u001b[1;32m   1077\u001b[0m                     \u001b[0mprint_figure_impl\u001b[0m\u001b[0;34m(\u001b[0m\u001b[0mfh\u001b[0m\u001b[0;34m)\u001b[0m\u001b[0;34m\u001b[0m\u001b[0;34m\u001b[0m\u001b[0m\n\u001b[1;32m   1078\u001b[0m \u001b[0;34m\u001b[0m\u001b[0m\n",
            "\u001b[0;31mFileNotFoundError\u001b[0m: [Errno 2] No such file or directory: '/content/drive/My Drive/Reducing Austin Crime/graphs/auto_theft_bar.eps'"
          ]
        },
        {
          "output_type": "display_data",
          "data": {
            "image/png": "[encoded data removed]",
            "text/plain": [
              "<Figure size 432x288 with 1 Axes>"
            ]
          },
          "metadata": {
            "tags": [],
            "needs_background": "light"
          }
        }
      ]
    },
    {
      "cell_type": "markdown",
      "metadata": {
        "id": "9eFyzjZj2mH7",
        "colab_type": "text"
      },
      "source": [
        "###78741\n",
        "- Neighbors St. Edward's (east)\n",
        "- I live in 78741 (university estates)\n",
        "- Large homeless population\n",
        "- 72% renters (apts)\n",
        "- For population over 24, 74% do not have a college degree"
      ]
    },
    {
      "cell_type": "markdown",
      "metadata": {
        "id": "4VfG4mHQzpKi",
        "colab_type": "text"
      },
      "source": [
        "###Theft From Person"
      ]
    },
    {
      "cell_type": "code",
      "metadata": {
        "id": "wupcuAHoBJAG",
        "colab_type": "code",
        "colab": {}
      },
      "source": [
        "person_df = create_df('THEFT FROM PERSON')"
      ],
      "execution_count": null,
      "outputs": []
    },
    {
      "cell_type": "code",
      "metadata": {
        "id": "5v1kUq_70MSa",
        "colab_type": "code",
        "colab": {}
      },
      "source": [
        "bar_chart(person_df, 'Theft from Person', 'Theft', 'THEFT FROM PERSON')\n",
        "plt.savefig(graph_folder + 'graphs/person_theft_bar.eps', format = 'eps')"
      ],
      "execution_count": null,
      "outputs": []
    },
    {
      "cell_type": "markdown",
      "metadata": {
        "id": "69ikCJGHBrFd",
        "colab_type": "text"
      },
      "source": [
        "###78701\n",
        "- Includes downtown and dirty 6th\n",
        "- 64% singles\n",
        "- 50% renters\n",
        "- majority of houses range $200,000-750,000\n",
        "- 23% no college education"
      ]
    },
    {
      "cell_type": "markdown",
      "metadata": {
        "id": "ZKxwezpS0TSy",
        "colab_type": "text"
      },
      "source": [
        "###Bicycle"
      ]
    },
    {
      "cell_type": "code",
      "metadata": {
        "id": "1lGPsn080qt5",
        "colab_type": "code",
        "colab": {}
      },
      "source": [
        "bike_df = create_df('THEFT OF BICYCLE')"
      ],
      "execution_count": null,
      "outputs": []
    },
    {
      "cell_type": "code",
      "metadata": {
        "id": "Q6_Z7yWOYB-9",
        "colab_type": "code",
        "colab": {}
      },
      "source": [
        "bar_chart(bike_df, 'Theft of Bike', 'Theft', 'THEFT OF BICYCLE')\n",
        "plt.savefig(graph_folder + 'graphs/bike_theft_bar.eps', format = 'eps')"
      ],
      "execution_count": null,
      "outputs": []
    },
    {
      "cell_type": "markdown",
      "metadata": {
        "id": "TN8igUs2gC7l",
        "colab_type": "text"
      },
      "source": [
        "##ZIP Robbery"
      ]
    },
    {
      "cell_type": "code",
      "metadata": {
        "id": "ZSy7OwjOg0-g",
        "colab_type": "code",
        "colab": {}
      },
      "source": [
        "df['apd_desc'] = df['apd_desc'].replace(['AGG ROBBERY BY ASSAULT'], 'ROBBERY BY ASSAULT')"
      ],
      "execution_count": null,
      "outputs": []
    },
    {
      "cell_type": "markdown",
      "metadata": {
        "id": "Y_jELMCJhavk",
        "colab_type": "text"
      },
      "source": [
        "###Robbery by Assault"
      ]
    },
    {
      "cell_type": "code",
      "metadata": {
        "id": "FLnUjgK7YTzM",
        "colab_type": "code",
        "colab": {}
      },
      "source": [
        "rob_assault_df = create_df('ROBBERY BY ASSAULT')"
      ],
      "execution_count": null,
      "outputs": []
    },
    {
      "cell_type": "code",
      "metadata": {
        "id": "VKvTxMlkioPu",
        "colab_type": "code",
        "colab": {}
      },
      "source": [
        "bar_chart(rob_assault_df, 'Robbery by Assault', 'Robbery', 'ROBBERY BY ASSAULT')\n",
        "plt.savefig(graph_folder + 'graphs/rob_assault_bar.eps', format = 'eps')"
      ],
      "execution_count": null,
      "outputs": []
    },
    {
      "cell_type": "markdown",
      "metadata": {
        "id": "kebFflIpiy-o",
        "colab_type": "text"
      },
      "source": [
        "###Robbery by Weapon"
      ]
    },
    {
      "cell_type": "code",
      "metadata": {
        "id": "DHSbalD9YvQB",
        "colab_type": "code",
        "colab": {}
      },
      "source": [
        "rob_weap_df = create_df('AGG ROBBERY/DEADLY WEAPON')"
      ],
      "execution_count": null,
      "outputs": []
    },
    {
      "cell_type": "code",
      "metadata": {
        "id": "Iu-1pqIOj1oC",
        "colab_type": "code",
        "colab": {}
      },
      "source": [
        "bar_chart(rob_weap_df, 'Robbery by Weapon', 'Robbery', 'AGG ROBBERY/DEADLY WEAPON')\n",
        "plt.savefig(graph_folder + 'graphs/rob_weap_bar.eps', format = 'eps')"
      ],
      "execution_count": null,
      "outputs": []
    },
    {
      "cell_type": "markdown",
      "metadata": {
        "id": "137zRxwnkEmk",
        "colab_type": "text"
      },
      "source": [
        "##ZIP Burglary"
      ]
    },
    {
      "cell_type": "markdown",
      "metadata": {
        "id": "zSmpKW4RkfNO",
        "colab_type": "text"
      },
      "source": [
        "###Burglary of Residence"
      ]
    },
    {
      "cell_type": "code",
      "metadata": {
        "id": "kgvB7WmKZZD4",
        "colab_type": "code",
        "colab": {}
      },
      "source": [
        "burg_res_df = create_df('BURGLARY OF RESIDENCE')"
      ],
      "execution_count": null,
      "outputs": []
    },
    {
      "cell_type": "code",
      "metadata": {
        "id": "v2Q3OMgjlTaD",
        "colab_type": "code",
        "colab": {}
      },
      "source": [
        "bar_chart(burg_res_df, 'Burglary of Residence', 'Burglary', 'BURGLARY OF RESIDENCE')\n",
        "plt.savefig(graph_folder + 'graphs/burg_res_bar.eps', format = 'eps')"
      ],
      "execution_count": null,
      "outputs": []
    },
    {
      "cell_type": "markdown",
      "metadata": {
        "id": "Cjj0j9wMynxm",
        "colab_type": "text"
      },
      "source": [
        "##ZIP Assault"
      ]
    },
    {
      "cell_type": "markdown",
      "metadata": {
        "id": "BIKpRvgcbqlh",
        "colab_type": "text"
      },
      "source": [
        "###Agg Assault"
      ]
    },
    {
      "cell_type": "code",
      "metadata": {
        "id": "-iMJpkGuyrq4",
        "colab_type": "code",
        "colab": {}
      },
      "source": [
        "agg_assault_df = create_df('AGG ASSAULT')"
      ],
      "execution_count": null,
      "outputs": []
    },
    {
      "cell_type": "code",
      "metadata": {
        "id": "dCEIDzXBbxLz",
        "colab_type": "code",
        "colab": {}
      },
      "source": [
        "bar_chart(agg_assault_df, 'Aggravated Assault', 'Agg Assault', 'AGG ASSAULT')\n",
        "plt.savefig(graph_folder + 'graphs/agg_assault_bar.eps', format = 'eps')"
      ],
      "execution_count": null,
      "outputs": []
    },
    {
      "cell_type": "markdown",
      "metadata": {
        "id": "ppHHL4CocGup",
        "colab_type": "text"
      },
      "source": [
        "###Agg Assault by Strangle"
      ]
    },
    {
      "cell_type": "code",
      "metadata": {
        "id": "-AcVK9YebzQm",
        "colab_type": "code",
        "colab": {}
      },
      "source": [
        "agg_assault_strangle_df = create_df('AGG ASLT STRANGLE/SUFFOCATE')"
      ],
      "execution_count": null,
      "outputs": []
    },
    {
      "cell_type": "code",
      "metadata": {
        "id": "VYNCewG_cRNY",
        "colab_type": "code",
        "colab": {}
      },
      "source": [
        "bar_chart(agg_assault_strangle_df, 'Assault by Strangulation', 'Agg Assault', 'AGG ASLT STRANGLE/SUFFOCATE')\n",
        "plt.savefig(graph_folder + 'graphs/assault_strangle_bar.eps', format = 'eps')"
      ],
      "execution_count": null,
      "outputs": []
    },
    {
      "cell_type": "markdown",
      "metadata": {
        "id": "UP-YcpohcrHf",
        "colab_type": "text"
      },
      "source": [
        "###Deadly Conduct"
      ]
    },
    {
      "cell_type": "code",
      "metadata": {
        "id": "ndFohS5DcUQM",
        "colab_type": "code",
        "colab": {}
      },
      "source": [
        "agg_assault_deadly_df = create_df('DEADLY CONDUCT')"
      ],
      "execution_count": null,
      "outputs": []
    },
    {
      "cell_type": "code",
      "metadata": {
        "id": "CRf0Z03fczmU",
        "colab_type": "code",
        "colab": {
          "base_uri": "https://localhost:8080/",
          "height": 331
        },
        "outputId": "fd540e83-2c54-455f-ee70-eed39b6ef6ee"
      },
      "source": [
        "bar_chart(agg_assault_deadly_df, 'Deadly Conduct', 'Agg Assault', 'DEADLY CONDUCT')\n",
        "plt.savefig(graph_folder + 'graphs/assault_deadly_bar.eps', format = 'eps')"
      ],
      "execution_count": null,
      "outputs": [
        {
          "output_type": "stream",
          "text": [
            "The PostScript backend does not support transparency; partially transparent artists will be rendered opaque.\n",
            "The PostScript backend does not support transparency; partially transparent artists will be rendered opaque.\n"
          ],
          "name": "stderr"
        },
        {
          "output_type": "display_data",
          "data": {
            "image/png": "[encoded data removed]",
            "text/plain": [
              "<Figure size 432x288 with 1 Axes>"
            ]
          },
          "metadata": {
            "tags": [],
            "needs_background": "light"
          }
        }
      ]
    },
    {
      "cell_type": "markdown",
      "metadata": {
        "id": "_cul4FVAxLvv",
        "colab_type": "text"
      },
      "source": [
        "###Family/Dating Violence"
      ]
    },
    {
      "cell_type": "code",
      "metadata": {
        "id": "Wbw8Q0DGguXA",
        "colab_type": "code",
        "colab": {}
      },
      "source": [
        "agg_assault_famdat_df = create_df('AGG ASSAULT FAM/DATE VIOLENCE')"
      ],
      "execution_count": null,
      "outputs": []
    },
    {
      "cell_type": "code",
      "metadata": {
        "id": "29-7sVVVychs",
        "colab_type": "code",
        "colab": {
          "base_uri": "https://localhost:8080/",
          "height": 331
        },
        "outputId": "b3bd6678-c08b-416f-9d13-33862d52fb6e"
      },
      "source": [
        "bar_chart(agg_assault_famdat_df, 'Family/Dating Violence', 'Agg Assault', 'AGG ASSAULT FAM/DATE VIOLENCE')\n",
        "plt.savefig(graph_folder + 'graphs/assault_famdat_bar.eps', format = 'eps')"
      ],
      "execution_count": null,
      "outputs": [
        {
          "output_type": "stream",
          "text": [
            "The PostScript backend does not support transparency; partially transparent artists will be rendered opaque.\n",
            "The PostScript backend does not support transparency; partially transparent artists will be rendered opaque.\n"
          ],
          "name": "stderr"
        },
        {
          "output_type": "display_data",
          "data": {
            "image/png": "[encoded data removed]",
            "text/plain": [
              "<Figure size 432x288 with 1 Axes>"
            ]
          },
          "metadata": {
            "tags": [],
            "needs_background": "light"
          }
        }
      ]
    },
    {
      "cell_type": "markdown",
      "metadata": {
        "id": "RtKsiwV8yRfz",
        "colab_type": "text"
      },
      "source": [
        "#ZIP Murder"
      ]
    },
    {
      "cell_type": "code",
      "metadata": {
        "id": "7FyBPwaiyeL4",
        "colab_type": "code",
        "colab": {
          "base_uri": "https://localhost:8080/",
          "height": 159
        },
        "outputId": "81243ec3-c637-451e-f0e3-32db9e3c5a2c"
      },
      "source": [
        "#Not that many points, so we aggregated all murder\n",
        "df['apd_desc'] = df['apd_desc'].replace(['CAPITAL MURDER','MANSLAUGHTER'], 'MURDER')\n"
      ],
      "execution_count": null,
      "outputs": [
        {
          "output_type": "stream",
          "text": [
            "/usr/local/lib/python3.6/dist-packages/ipykernel_launcher.py:1: SettingWithCopyWarning: \n",
            "A value is trying to be set on a copy of a slice from a DataFrame.\n",
            "Try using .loc[row_indexer,col_indexer] = value instead\n",
            "\n",
            "See the caveats in the documentation: https://pandas.pydata.org/pandas-docs/stable/user_guide/indexing.html#returning-a-view-versus-a-copy\n",
            "  \"\"\"Entry point for launching an IPython kernel.\n"
          ],
          "name": "stderr"
        }
      ]
    },
    {
      "cell_type": "markdown",
      "metadata": {
        "id": "Bc4EaWbYy5gk",
        "colab_type": "text"
      },
      "source": [
        "###Murder (APD_Desc)"
      ]
    },
    {
      "cell_type": "code",
      "metadata": {
        "id": "69Ld2n8_22xf",
        "colab_type": "code",
        "colab": {
          "base_uri": "https://localhost:8080/",
          "height": 34
        },
        "outputId": "867af560-6ad6-4d00-fa87-ff4d7e654dbe"
      },
      "source": [
        "df[df['fbi_desc']=='Murder'].shape[0]"
      ],
      "execution_count": null,
      "outputs": [
        {
          "output_type": "execute_result",
          "data": {
            "text/plain": [
              "30"
            ]
          },
          "metadata": {
            "tags": []
          },
          "execution_count": 54
        }
      ]
    },
    {
      "cell_type": "code",
      "metadata": {
        "id": "gI9go843y_eu",
        "colab_type": "code",
        "colab": {}
      },
      "source": [
        "murder_df = create_df('MURDER')"
      ],
      "execution_count": null,
      "outputs": []
    },
    {
      "cell_type": "code",
      "metadata": {
        "id": "TutK3QedzG4H",
        "colab_type": "code",
        "colab": {
          "base_uri": "https://localhost:8080/",
          "height": 331
        },
        "outputId": "955780a4-788d-40ba-f80d-8703909d0ff8"
      },
      "source": [
        "bar_chart(murder_df, 'Murder', 'Murder', 'MURDER')\n",
        "plt.savefig(graph_folder + 'graphs/murder_bar.eps', format = 'eps')"
      ],
      "execution_count": null,
      "outputs": [
        {
          "output_type": "stream",
          "text": [
            "The PostScript backend does not support transparency; partially transparent artists will be rendered opaque.\n",
            "The PostScript backend does not support transparency; partially transparent artists will be rendered opaque.\n"
          ],
          "name": "stderr"
        },
        {
          "output_type": "display_data",
          "data": {
            "image/png": "[encoded data removed]",
            "text/plain": [
              "<Figure size 432x288 with 1 Axes>"
            ]
          },
          "metadata": {
            "tags": [],
            "needs_background": "light"
          }
        }
      ]
    }
  ]
}