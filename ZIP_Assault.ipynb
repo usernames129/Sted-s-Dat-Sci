{
  "nbformat": 4,
  "nbformat_minor": 0,
  "metadata": {
    "colab": {
      "name": "ZIP Assault.ipynb",
      "provenance": []
    },
    "kernelspec": {
      "name": "python3",
      "display_name": "Python 3"
    }
  },
  "cells": [
    {
      "cell_type": "code",
      "metadata": {
        "id": "48yS1FQq5_Vz",
        "colab_type": "code",
        "colab": {
          "base_uri": "https://localhost:8080/",
          "height": 33
        },
        "outputId": "65a2a4cc-2d5f-4f1e-db54-7dfea31cd1b4"
      },
      "source": [
        "import pandas as pd\n",
        "import numpy as np\n",
        "from matplotlib import pyplot as plt\n",
        "\n",
        "from google.colab import drive\n",
        "drive.mount('/content/drive')\n",
        "drive_dir = '/content/drive/My Drive/MATH_3439/'"
      ],
      "execution_count": 2,
      "outputs": [
        {
          "output_type": "stream",
          "text": [
            "Mounted at /content/drive\n"
          ],
          "name": "stdout"
        }
      ]
    },
    {
      "cell_type": "markdown",
      "metadata": {
        "id": "cN2b1p0x1L5Q",
        "colab_type": "text"
      },
      "source": [
        "###Cleaning"
      ]
    },
    {
      "cell_type": "code",
      "metadata": {
        "id": "FvgqB4BP1Nc6",
        "colab_type": "code",
        "colab": {
          "base_uri": "https://localhost:8080/",
          "height": 655
        },
        "outputId": "6f9f3bc0-e8ca-411b-a987-6f135fd5c0f1"
      },
      "source": [
        "df = pd.read_csv(drive_dir + 'data/2016_austin_crime.csv')\n",
        "df"
      ],
      "execution_count": 3,
      "outputs": [
        {
          "output_type": "execute_result",
          "data": {
            "text/html": [
              "<div>\n",
              "<style scoped>\n",
              "    .dataframe tbody tr th:only-of-type {\n",
              "        vertical-align: middle;\n",
              "    }\n",
              "\n",
              "    .dataframe tbody tr th {\n",
              "        vertical-align: top;\n",
              "    }\n",
              "\n",
              "    .dataframe thead th {\n",
              "        text-align: right;\n",
              "    }\n",
              "</style>\n",
              "<table border=\"1\" class=\"dataframe\">\n",
              "  <thead>\n",
              "    <tr style=\"text-align: right;\">\n",
              "      <th></th>\n",
              "      <th>GO Primary Key</th>\n",
              "      <th>Council District</th>\n",
              "      <th>GO Highest Offense Desc</th>\n",
              "      <th>Highest NIBRS/UCR Offense Description</th>\n",
              "      <th>GO Report Date</th>\n",
              "      <th>GO Location</th>\n",
              "      <th>Clearance Status</th>\n",
              "      <th>Clearance Date</th>\n",
              "      <th>GO District</th>\n",
              "      <th>GO Location Zip</th>\n",
              "      <th>GO Census Tract</th>\n",
              "      <th>GO X Coordinate</th>\n",
              "      <th>GO Y Coordinate</th>\n",
              "    </tr>\n",
              "  </thead>\n",
              "  <tbody>\n",
              "    <tr>\n",
              "      <th>0</th>\n",
              "      <td>2.016102e+08</td>\n",
              "      <td>8.0</td>\n",
              "      <td>AGG ASLT ENHANC STRANGL/SUFFOC</td>\n",
              "      <td>Agg Assault</td>\n",
              "      <td>1-Jan-16</td>\n",
              "      <td>8600 W SH 71                                  ...</td>\n",
              "      <td>C</td>\n",
              "      <td>12-Jan-16</td>\n",
              "      <td>D</td>\n",
              "      <td>78735.0</td>\n",
              "      <td>19.08</td>\n",
              "      <td>3067322.0</td>\n",
              "      <td>10062796.0</td>\n",
              "    </tr>\n",
              "    <tr>\n",
              "      <th>1</th>\n",
              "      <td>2.016106e+08</td>\n",
              "      <td>9.0</td>\n",
              "      <td>THEFT</td>\n",
              "      <td>Theft</td>\n",
              "      <td>1-Jan-16</td>\n",
              "      <td>219 E 6TH ST                                  ...</td>\n",
              "      <td>C</td>\n",
              "      <td>4-Jan-16</td>\n",
              "      <td>G</td>\n",
              "      <td>78701.0</td>\n",
              "      <td>11.00</td>\n",
              "      <td>3114957.0</td>\n",
              "      <td>10070462.0</td>\n",
              "    </tr>\n",
              "    <tr>\n",
              "      <th>2</th>\n",
              "      <td>2.016109e+08</td>\n",
              "      <td>4.0</td>\n",
              "      <td>AGG ROBBERY/DEADLY WEAPON</td>\n",
              "      <td>Robbery</td>\n",
              "      <td>1-Jan-16</td>\n",
              "      <td>701 W LONGSPUR BLVD                           ...</td>\n",
              "      <td>N</td>\n",
              "      <td>3-May-16</td>\n",
              "      <td>E</td>\n",
              "      <td>78753.0</td>\n",
              "      <td>18.23</td>\n",
              "      <td>3129181.0</td>\n",
              "      <td>10106923.0</td>\n",
              "    </tr>\n",
              "    <tr>\n",
              "      <th>3</th>\n",
              "      <td>2.016109e+08</td>\n",
              "      <td>9.0</td>\n",
              "      <td>THEFT</td>\n",
              "      <td>Theft</td>\n",
              "      <td>1-Jan-16</td>\n",
              "      <td>404 COLORADO ST                               ...</td>\n",
              "      <td>N</td>\n",
              "      <td>22-Jan-16</td>\n",
              "      <td>G</td>\n",
              "      <td>78701.0</td>\n",
              "      <td>11.00</td>\n",
              "      <td>3113643.0</td>\n",
              "      <td>10070357.0</td>\n",
              "    </tr>\n",
              "    <tr>\n",
              "      <th>4</th>\n",
              "      <td>2.016110e+08</td>\n",
              "      <td>4.0</td>\n",
              "      <td>SEXUAL ASSAULT W/ OBJECT</td>\n",
              "      <td>Rape</td>\n",
              "      <td>1-Jan-16</td>\n",
              "      <td>NaN</td>\n",
              "      <td>C</td>\n",
              "      <td>10-Mar-16</td>\n",
              "      <td>E</td>\n",
              "      <td>78753.0</td>\n",
              "      <td>18.33</td>\n",
              "      <td>NaN</td>\n",
              "      <td>NaN</td>\n",
              "    </tr>\n",
              "    <tr>\n",
              "      <th>...</th>\n",
              "      <td>...</td>\n",
              "      <td>...</td>\n",
              "      <td>...</td>\n",
              "      <td>...</td>\n",
              "      <td>...</td>\n",
              "      <td>...</td>\n",
              "      <td>...</td>\n",
              "      <td>...</td>\n",
              "      <td>...</td>\n",
              "      <td>...</td>\n",
              "      <td>...</td>\n",
              "      <td>...</td>\n",
              "      <td>...</td>\n",
              "    </tr>\n",
              "    <tr>\n",
              "      <th>37456</th>\n",
              "      <td>2.016505e+10</td>\n",
              "      <td>7.0</td>\n",
              "      <td>THEFT</td>\n",
              "      <td>Theft</td>\n",
              "      <td>31-Dec-16</td>\n",
              "      <td>8822 MC CANN DR                               ...</td>\n",
              "      <td>N</td>\n",
              "      <td>3-Jan-17</td>\n",
              "      <td>B</td>\n",
              "      <td>78757.0</td>\n",
              "      <td>18.17</td>\n",
              "      <td>3117454.0</td>\n",
              "      <td>10109065.0</td>\n",
              "    </tr>\n",
              "    <tr>\n",
              "      <th>37457</th>\n",
              "      <td>2.016505e+10</td>\n",
              "      <td>9.0</td>\n",
              "      <td>THEFT</td>\n",
              "      <td>Theft</td>\n",
              "      <td>31-Dec-16</td>\n",
              "      <td>123 W 6TH ST                                  ...</td>\n",
              "      <td>N</td>\n",
              "      <td>3-Jan-17</td>\n",
              "      <td>G</td>\n",
              "      <td>78701.0</td>\n",
              "      <td>11.00</td>\n",
              "      <td>3113924.0</td>\n",
              "      <td>10070794.0</td>\n",
              "    </tr>\n",
              "    <tr>\n",
              "      <th>37458</th>\n",
              "      <td>2.016801e+10</td>\n",
              "      <td>1.0</td>\n",
              "      <td>BURGLARY OF VEHICLE</td>\n",
              "      <td>Theft</td>\n",
              "      <td>31-Dec-16</td>\n",
              "      <td>5601 EXETER DR                                ...</td>\n",
              "      <td>N</td>\n",
              "      <td>16-Jan-17</td>\n",
              "      <td>I</td>\n",
              "      <td>78723.0</td>\n",
              "      <td>21.06</td>\n",
              "      <td>3132812.0</td>\n",
              "      <td>10084356.0</td>\n",
              "    </tr>\n",
              "    <tr>\n",
              "      <th>37459</th>\n",
              "      <td>2.016801e+10</td>\n",
              "      <td>3.0</td>\n",
              "      <td>BURGLARY OF VEHICLE</td>\n",
              "      <td>Theft</td>\n",
              "      <td>31-Dec-16</td>\n",
              "      <td>101 HERGOTZ LN                                ...</td>\n",
              "      <td>N</td>\n",
              "      <td>12-Jan-17</td>\n",
              "      <td>H</td>\n",
              "      <td>78742.0</td>\n",
              "      <td>23.10</td>\n",
              "      <td>3131778.0</td>\n",
              "      <td>10062481.0</td>\n",
              "    </tr>\n",
              "    <tr>\n",
              "      <th>37460</th>\n",
              "      <td>2.016801e+10</td>\n",
              "      <td>9.0</td>\n",
              "      <td>BURGLARY OF VEHICLE</td>\n",
              "      <td>Theft</td>\n",
              "      <td>31-Dec-16</td>\n",
              "      <td>701 W 28TH ST                                 ...</td>\n",
              "      <td>N</td>\n",
              "      <td>16-Jan-17</td>\n",
              "      <td>B</td>\n",
              "      <td>78705.0</td>\n",
              "      <td>6.03</td>\n",
              "      <td>3113521.0</td>\n",
              "      <td>10079906.0</td>\n",
              "    </tr>\n",
              "  </tbody>\n",
              "</table>\n",
              "<p>37461 rows × 13 columns</p>\n",
              "</div>"
            ],
            "text/plain": [
              "       GO Primary Key  Council District  ... GO X Coordinate GO Y Coordinate\n",
              "0        2.016102e+08               8.0  ...       3067322.0      10062796.0\n",
              "1        2.016106e+08               9.0  ...       3114957.0      10070462.0\n",
              "2        2.016109e+08               4.0  ...       3129181.0      10106923.0\n",
              "3        2.016109e+08               9.0  ...       3113643.0      10070357.0\n",
              "4        2.016110e+08               4.0  ...             NaN             NaN\n",
              "...               ...               ...  ...             ...             ...\n",
              "37456    2.016505e+10               7.0  ...       3117454.0      10109065.0\n",
              "37457    2.016505e+10               9.0  ...       3113924.0      10070794.0\n",
              "37458    2.016801e+10               1.0  ...       3132812.0      10084356.0\n",
              "37459    2.016801e+10               3.0  ...       3131778.0      10062481.0\n",
              "37460    2.016801e+10               9.0  ...       3113521.0      10079906.0\n",
              "\n",
              "[37461 rows x 13 columns]"
            ]
          },
          "metadata": {
            "tags": []
          },
          "execution_count": 3
        }
      ]
    },
    {
      "cell_type": "code",
      "metadata": {
        "id": "onj95yEC1Vck",
        "colab_type": "code",
        "colab": {}
      },
      "source": [
        "df = df.drop(['GO Primary Key' , 'GO Location' , 'GO Census Tract'], axis=1)"
      ],
      "execution_count": 4,
      "outputs": []
    },
    {
      "cell_type": "code",
      "metadata": {
        "id": "Ka8PXwiJ1ZQq",
        "colab_type": "code",
        "colab": {
          "base_uri": "https://localhost:8080/",
          "height": 404
        },
        "outputId": "a6648b0a-7530-4dbe-aff8-7dcbf1a9c643"
      },
      "source": [
        "df.columns = ['council_district', 'apd_desc', 'fbi_desc', 'report_date', 'clearance_status', 'clearance_date', 'district', 'location_zip', 'x', 'y']\n",
        "df"
      ],
      "execution_count": 5,
      "outputs": [
        {
          "output_type": "execute_result",
          "data": {
            "text/html": [
              "<div>\n",
              "<style scoped>\n",
              "    .dataframe tbody tr th:only-of-type {\n",
              "        vertical-align: middle;\n",
              "    }\n",
              "\n",
              "    .dataframe tbody tr th {\n",
              "        vertical-align: top;\n",
              "    }\n",
              "\n",
              "    .dataframe thead th {\n",
              "        text-align: right;\n",
              "    }\n",
              "</style>\n",
              "<table border=\"1\" class=\"dataframe\">\n",
              "  <thead>\n",
              "    <tr style=\"text-align: right;\">\n",
              "      <th></th>\n",
              "      <th>council_district</th>\n",
              "      <th>apd_desc</th>\n",
              "      <th>fbi_desc</th>\n",
              "      <th>report_date</th>\n",
              "      <th>clearance_status</th>\n",
              "      <th>clearance_date</th>\n",
              "      <th>district</th>\n",
              "      <th>location_zip</th>\n",
              "      <th>x</th>\n",
              "      <th>y</th>\n",
              "    </tr>\n",
              "  </thead>\n",
              "  <tbody>\n",
              "    <tr>\n",
              "      <th>0</th>\n",
              "      <td>8.0</td>\n",
              "      <td>AGG ASLT ENHANC STRANGL/SUFFOC</td>\n",
              "      <td>Agg Assault</td>\n",
              "      <td>1-Jan-16</td>\n",
              "      <td>C</td>\n",
              "      <td>12-Jan-16</td>\n",
              "      <td>D</td>\n",
              "      <td>78735.0</td>\n",
              "      <td>3067322.0</td>\n",
              "      <td>10062796.0</td>\n",
              "    </tr>\n",
              "    <tr>\n",
              "      <th>1</th>\n",
              "      <td>9.0</td>\n",
              "      <td>THEFT</td>\n",
              "      <td>Theft</td>\n",
              "      <td>1-Jan-16</td>\n",
              "      <td>C</td>\n",
              "      <td>4-Jan-16</td>\n",
              "      <td>G</td>\n",
              "      <td>78701.0</td>\n",
              "      <td>3114957.0</td>\n",
              "      <td>10070462.0</td>\n",
              "    </tr>\n",
              "    <tr>\n",
              "      <th>2</th>\n",
              "      <td>4.0</td>\n",
              "      <td>AGG ROBBERY/DEADLY WEAPON</td>\n",
              "      <td>Robbery</td>\n",
              "      <td>1-Jan-16</td>\n",
              "      <td>N</td>\n",
              "      <td>3-May-16</td>\n",
              "      <td>E</td>\n",
              "      <td>78753.0</td>\n",
              "      <td>3129181.0</td>\n",
              "      <td>10106923.0</td>\n",
              "    </tr>\n",
              "    <tr>\n",
              "      <th>3</th>\n",
              "      <td>9.0</td>\n",
              "      <td>THEFT</td>\n",
              "      <td>Theft</td>\n",
              "      <td>1-Jan-16</td>\n",
              "      <td>N</td>\n",
              "      <td>22-Jan-16</td>\n",
              "      <td>G</td>\n",
              "      <td>78701.0</td>\n",
              "      <td>3113643.0</td>\n",
              "      <td>10070357.0</td>\n",
              "    </tr>\n",
              "    <tr>\n",
              "      <th>4</th>\n",
              "      <td>4.0</td>\n",
              "      <td>SEXUAL ASSAULT W/ OBJECT</td>\n",
              "      <td>Rape</td>\n",
              "      <td>1-Jan-16</td>\n",
              "      <td>C</td>\n",
              "      <td>10-Mar-16</td>\n",
              "      <td>E</td>\n",
              "      <td>78753.0</td>\n",
              "      <td>NaN</td>\n",
              "      <td>NaN</td>\n",
              "    </tr>\n",
              "    <tr>\n",
              "      <th>...</th>\n",
              "      <td>...</td>\n",
              "      <td>...</td>\n",
              "      <td>...</td>\n",
              "      <td>...</td>\n",
              "      <td>...</td>\n",
              "      <td>...</td>\n",
              "      <td>...</td>\n",
              "      <td>...</td>\n",
              "      <td>...</td>\n",
              "      <td>...</td>\n",
              "    </tr>\n",
              "    <tr>\n",
              "      <th>37456</th>\n",
              "      <td>7.0</td>\n",
              "      <td>THEFT</td>\n",
              "      <td>Theft</td>\n",
              "      <td>31-Dec-16</td>\n",
              "      <td>N</td>\n",
              "      <td>3-Jan-17</td>\n",
              "      <td>B</td>\n",
              "      <td>78757.0</td>\n",
              "      <td>3117454.0</td>\n",
              "      <td>10109065.0</td>\n",
              "    </tr>\n",
              "    <tr>\n",
              "      <th>37457</th>\n",
              "      <td>9.0</td>\n",
              "      <td>THEFT</td>\n",
              "      <td>Theft</td>\n",
              "      <td>31-Dec-16</td>\n",
              "      <td>N</td>\n",
              "      <td>3-Jan-17</td>\n",
              "      <td>G</td>\n",
              "      <td>78701.0</td>\n",
              "      <td>3113924.0</td>\n",
              "      <td>10070794.0</td>\n",
              "    </tr>\n",
              "    <tr>\n",
              "      <th>37458</th>\n",
              "      <td>1.0</td>\n",
              "      <td>BURGLARY OF VEHICLE</td>\n",
              "      <td>Theft</td>\n",
              "      <td>31-Dec-16</td>\n",
              "      <td>N</td>\n",
              "      <td>16-Jan-17</td>\n",
              "      <td>I</td>\n",
              "      <td>78723.0</td>\n",
              "      <td>3132812.0</td>\n",
              "      <td>10084356.0</td>\n",
              "    </tr>\n",
              "    <tr>\n",
              "      <th>37459</th>\n",
              "      <td>3.0</td>\n",
              "      <td>BURGLARY OF VEHICLE</td>\n",
              "      <td>Theft</td>\n",
              "      <td>31-Dec-16</td>\n",
              "      <td>N</td>\n",
              "      <td>12-Jan-17</td>\n",
              "      <td>H</td>\n",
              "      <td>78742.0</td>\n",
              "      <td>3131778.0</td>\n",
              "      <td>10062481.0</td>\n",
              "    </tr>\n",
              "    <tr>\n",
              "      <th>37460</th>\n",
              "      <td>9.0</td>\n",
              "      <td>BURGLARY OF VEHICLE</td>\n",
              "      <td>Theft</td>\n",
              "      <td>31-Dec-16</td>\n",
              "      <td>N</td>\n",
              "      <td>16-Jan-17</td>\n",
              "      <td>B</td>\n",
              "      <td>78705.0</td>\n",
              "      <td>3113521.0</td>\n",
              "      <td>10079906.0</td>\n",
              "    </tr>\n",
              "  </tbody>\n",
              "</table>\n",
              "<p>37461 rows × 10 columns</p>\n",
              "</div>"
            ],
            "text/plain": [
              "       council_district                        apd_desc  ...          x           y\n",
              "0                   8.0  AGG ASLT ENHANC STRANGL/SUFFOC  ...  3067322.0  10062796.0\n",
              "1                   9.0  THEFT                           ...  3114957.0  10070462.0\n",
              "2                   4.0  AGG ROBBERY/DEADLY WEAPON       ...  3129181.0  10106923.0\n",
              "3                   9.0  THEFT                           ...  3113643.0  10070357.0\n",
              "4                   4.0  SEXUAL ASSAULT W/ OBJECT        ...        NaN         NaN\n",
              "...                 ...                             ...  ...        ...         ...\n",
              "37456               7.0  THEFT                           ...  3117454.0  10109065.0\n",
              "37457               9.0  THEFT                           ...  3113924.0  10070794.0\n",
              "37458               1.0  BURGLARY OF VEHICLE             ...  3132812.0  10084356.0\n",
              "37459               3.0  BURGLARY OF VEHICLE             ...  3131778.0  10062481.0\n",
              "37460               9.0  BURGLARY OF VEHICLE             ...  3113521.0  10079906.0\n",
              "\n",
              "[37461 rows x 10 columns]"
            ]
          },
          "metadata": {
            "tags": []
          },
          "execution_count": 5
        }
      ]
    },
    {
      "cell_type": "code",
      "metadata": {
        "id": "tAURWduS1bCq",
        "colab_type": "code",
        "colab": {}
      },
      "source": [
        "df = df.dropna()"
      ],
      "execution_count": 6,
      "outputs": []
    },
    {
      "cell_type": "code",
      "metadata": {
        "id": "8-4AALLn2lAy",
        "colab_type": "code",
        "colab": {
          "base_uri": "https://localhost:8080/",
          "height": 318
        },
        "outputId": "5dc7c099-d9f2-41f4-bb3b-dfa6070770ac"
      },
      "source": [
        "df['apd_desc'] = df['apd_desc'].str.strip()\n",
        "df['fbi_desc'] = df['fbi_desc'].str.strip()\n",
        "df['clearance_status'] = df['clearance_status'].str.strip()"
      ],
      "execution_count": 7,
      "outputs": [
        {
          "output_type": "stream",
          "text": [
            "/usr/local/lib/python3.6/dist-packages/ipykernel_launcher.py:1: SettingWithCopyWarning: \n",
            "A value is trying to be set on a copy of a slice from a DataFrame.\n",
            "Try using .loc[row_indexer,col_indexer] = value instead\n",
            "\n",
            "See the caveats in the documentation: https://pandas.pydata.org/pandas-docs/stable/user_guide/indexing.html#returning-a-view-versus-a-copy\n",
            "  \"\"\"Entry point for launching an IPython kernel.\n",
            "/usr/local/lib/python3.6/dist-packages/ipykernel_launcher.py:2: SettingWithCopyWarning: \n",
            "A value is trying to be set on a copy of a slice from a DataFrame.\n",
            "Try using .loc[row_indexer,col_indexer] = value instead\n",
            "\n",
            "See the caveats in the documentation: https://pandas.pydata.org/pandas-docs/stable/user_guide/indexing.html#returning-a-view-versus-a-copy\n",
            "  \n",
            "/usr/local/lib/python3.6/dist-packages/ipykernel_launcher.py:3: SettingWithCopyWarning: \n",
            "A value is trying to be set on a copy of a slice from a DataFrame.\n",
            "Try using .loc[row_indexer,col_indexer] = value instead\n",
            "\n",
            "See the caveats in the documentation: https://pandas.pydata.org/pandas-docs/stable/user_guide/indexing.html#returning-a-view-versus-a-copy\n",
            "  This is separate from the ipykernel package so we can avoid doing imports until\n"
          ],
          "name": "stderr"
        }
      ]
    },
    {
      "cell_type": "code",
      "metadata": {
        "id": "GRiuirho2upv",
        "colab_type": "code",
        "colab": {
          "base_uri": "https://localhost:8080/",
          "height": 418
        },
        "outputId": "94f96c85-58ce-4b64-9973-6a50f7493c62"
      },
      "source": [
        "df['council_district'] = df['council_district'].astype(int)\n",
        "df['location_zip'] = df['location_zip'].astype(int)\n",
        "df['x'] = df['x'].astype(int)\n",
        "df['y'] = df['y'].astype(int)"
      ],
      "execution_count": 8,
      "outputs": [
        {
          "output_type": "stream",
          "text": [
            "/usr/local/lib/python3.6/dist-packages/ipykernel_launcher.py:1: SettingWithCopyWarning: \n",
            "A value is trying to be set on a copy of a slice from a DataFrame.\n",
            "Try using .loc[row_indexer,col_indexer] = value instead\n",
            "\n",
            "See the caveats in the documentation: https://pandas.pydata.org/pandas-docs/stable/user_guide/indexing.html#returning-a-view-versus-a-copy\n",
            "  \"\"\"Entry point for launching an IPython kernel.\n",
            "/usr/local/lib/python3.6/dist-packages/ipykernel_launcher.py:2: SettingWithCopyWarning: \n",
            "A value is trying to be set on a copy of a slice from a DataFrame.\n",
            "Try using .loc[row_indexer,col_indexer] = value instead\n",
            "\n",
            "See the caveats in the documentation: https://pandas.pydata.org/pandas-docs/stable/user_guide/indexing.html#returning-a-view-versus-a-copy\n",
            "  \n",
            "/usr/local/lib/python3.6/dist-packages/ipykernel_launcher.py:3: SettingWithCopyWarning: \n",
            "A value is trying to be set on a copy of a slice from a DataFrame.\n",
            "Try using .loc[row_indexer,col_indexer] = value instead\n",
            "\n",
            "See the caveats in the documentation: https://pandas.pydata.org/pandas-docs/stable/user_guide/indexing.html#returning-a-view-versus-a-copy\n",
            "  This is separate from the ipykernel package so we can avoid doing imports until\n",
            "/usr/local/lib/python3.6/dist-packages/ipykernel_launcher.py:4: SettingWithCopyWarning: \n",
            "A value is trying to be set on a copy of a slice from a DataFrame.\n",
            "Try using .loc[row_indexer,col_indexer] = value instead\n",
            "\n",
            "See the caveats in the documentation: https://pandas.pydata.org/pandas-docs/stable/user_guide/indexing.html#returning-a-view-versus-a-copy\n",
            "  after removing the cwd from sys.path.\n"
          ],
          "name": "stderr"
        }
      ]
    },
    {
      "cell_type": "markdown",
      "metadata": {
        "id": "4Blefy_u3C84",
        "colab_type": "text"
      },
      "source": [
        "###ZIP Assault"
      ]
    },
    {
      "cell_type": "code",
      "metadata": {
        "id": "H1_lYuXY2yye",
        "colab_type": "code",
        "colab": {
          "base_uri": "https://localhost:8080/",
          "height": 134
        },
        "outputId": "c204c9eb-9a14-492e-9e44-aab2f2548bf2"
      },
      "source": [
        "df['fbi_desc'].value_counts()"
      ],
      "execution_count": 9,
      "outputs": [
        {
          "output_type": "execute_result",
          "data": {
            "text/plain": [
              "Theft          24845\n",
              "Burglary        5025\n",
              "Agg Assault     2086\n",
              "Auto Theft      1988\n",
              "Robbery          911\n",
              "Murder            30\n",
              "Name: fbi_desc, dtype: int64"
            ]
          },
          "metadata": {
            "tags": []
          },
          "execution_count": 9
        }
      ]
    },
    {
      "cell_type": "code",
      "metadata": {
        "id": "tEtQnq653ZVW",
        "colab_type": "code",
        "colab": {
          "base_uri": "https://localhost:8080/",
          "height": 404
        },
        "outputId": "3d3e3090-010c-4364-e4a5-f18ea5874261"
      },
      "source": [
        "assault_df = df[df['fbi_desc'] == 'Agg Assault']\n",
        "assault_df"
      ],
      "execution_count": 10,
      "outputs": [
        {
          "output_type": "execute_result",
          "data": {
            "text/html": [
              "<div>\n",
              "<style scoped>\n",
              "    .dataframe tbody tr th:only-of-type {\n",
              "        vertical-align: middle;\n",
              "    }\n",
              "\n",
              "    .dataframe tbody tr th {\n",
              "        vertical-align: top;\n",
              "    }\n",
              "\n",
              "    .dataframe thead th {\n",
              "        text-align: right;\n",
              "    }\n",
              "</style>\n",
              "<table border=\"1\" class=\"dataframe\">\n",
              "  <thead>\n",
              "    <tr style=\"text-align: right;\">\n",
              "      <th></th>\n",
              "      <th>council_district</th>\n",
              "      <th>apd_desc</th>\n",
              "      <th>fbi_desc</th>\n",
              "      <th>report_date</th>\n",
              "      <th>clearance_status</th>\n",
              "      <th>clearance_date</th>\n",
              "      <th>district</th>\n",
              "      <th>location_zip</th>\n",
              "      <th>x</th>\n",
              "      <th>y</th>\n",
              "    </tr>\n",
              "  </thead>\n",
              "  <tbody>\n",
              "    <tr>\n",
              "      <th>0</th>\n",
              "      <td>8</td>\n",
              "      <td>AGG ASLT ENHANC STRANGL/SUFFOC</td>\n",
              "      <td>Agg Assault</td>\n",
              "      <td>1-Jan-16</td>\n",
              "      <td>C</td>\n",
              "      <td>12-Jan-16</td>\n",
              "      <td>D</td>\n",
              "      <td>78735</td>\n",
              "      <td>3067322</td>\n",
              "      <td>10062796</td>\n",
              "    </tr>\n",
              "    <tr>\n",
              "      <th>5</th>\n",
              "      <td>1</td>\n",
              "      <td>DEADLY CONDUCT</td>\n",
              "      <td>Agg Assault</td>\n",
              "      <td>1-Jan-16</td>\n",
              "      <td>N</td>\n",
              "      <td>8-Jan-16</td>\n",
              "      <td>C</td>\n",
              "      <td>78724</td>\n",
              "      <td>3146947</td>\n",
              "      <td>10077985</td>\n",
              "    </tr>\n",
              "    <tr>\n",
              "      <th>7</th>\n",
              "      <td>3</td>\n",
              "      <td>AGG ASSAULT FAM/DATE VIOLENCE</td>\n",
              "      <td>Agg Assault</td>\n",
              "      <td>1-Jan-16</td>\n",
              "      <td>C</td>\n",
              "      <td>1-Jan-16</td>\n",
              "      <td>H</td>\n",
              "      <td>78741</td>\n",
              "      <td>3122230</td>\n",
              "      <td>10059265</td>\n",
              "    </tr>\n",
              "    <tr>\n",
              "      <th>8</th>\n",
              "      <td>5</td>\n",
              "      <td>AGG ASLT STRANGLE/SUFFOCATE</td>\n",
              "      <td>Agg Assault</td>\n",
              "      <td>1-Jan-16</td>\n",
              "      <td>C</td>\n",
              "      <td>3-Feb-16</td>\n",
              "      <td>D</td>\n",
              "      <td>78704</td>\n",
              "      <td>3099793</td>\n",
              "      <td>10058337</td>\n",
              "    </tr>\n",
              "    <tr>\n",
              "      <th>13</th>\n",
              "      <td>2</td>\n",
              "      <td>DEADLY CONDUCT</td>\n",
              "      <td>Agg Assault</td>\n",
              "      <td>1-Jan-16</td>\n",
              "      <td>N</td>\n",
              "      <td>4-Jan-16</td>\n",
              "      <td>F</td>\n",
              "      <td>78744</td>\n",
              "      <td>3115830</td>\n",
              "      <td>10042476</td>\n",
              "    </tr>\n",
              "    <tr>\n",
              "      <th>...</th>\n",
              "      <td>...</td>\n",
              "      <td>...</td>\n",
              "      <td>...</td>\n",
              "      <td>...</td>\n",
              "      <td>...</td>\n",
              "      <td>...</td>\n",
              "      <td>...</td>\n",
              "      <td>...</td>\n",
              "      <td>...</td>\n",
              "      <td>...</td>\n",
              "    </tr>\n",
              "    <tr>\n",
              "      <th>37388</th>\n",
              "      <td>3</td>\n",
              "      <td>AGG ASLT STRANGLE/SUFFOCATE</td>\n",
              "      <td>Agg Assault</td>\n",
              "      <td>31-Dec-16</td>\n",
              "      <td>N</td>\n",
              "      <td>11-Jan-17</td>\n",
              "      <td>H</td>\n",
              "      <td>78741</td>\n",
              "      <td>3117791</td>\n",
              "      <td>10053978</td>\n",
              "    </tr>\n",
              "    <tr>\n",
              "      <th>37389</th>\n",
              "      <td>4</td>\n",
              "      <td>AGG ASLT STRANGLE/SUFFOCATE</td>\n",
              "      <td>Agg Assault</td>\n",
              "      <td>31-Dec-16</td>\n",
              "      <td>N</td>\n",
              "      <td>12-Jan-17</td>\n",
              "      <td>E</td>\n",
              "      <td>78753</td>\n",
              "      <td>3133940</td>\n",
              "      <td>10101616</td>\n",
              "    </tr>\n",
              "    <tr>\n",
              "      <th>37424</th>\n",
              "      <td>4</td>\n",
              "      <td>AGG ASSAULT</td>\n",
              "      <td>Agg Assault</td>\n",
              "      <td>31-Dec-16</td>\n",
              "      <td>N</td>\n",
              "      <td>18-Jan-17</td>\n",
              "      <td>E</td>\n",
              "      <td>78753</td>\n",
              "      <td>3130873</td>\n",
              "      <td>10104034</td>\n",
              "    </tr>\n",
              "    <tr>\n",
              "      <th>37427</th>\n",
              "      <td>3</td>\n",
              "      <td>AGG ASLT ENHANC STRANGL/SUFFOC</td>\n",
              "      <td>Agg Assault</td>\n",
              "      <td>31-Dec-16</td>\n",
              "      <td>C</td>\n",
              "      <td>31-Dec-16</td>\n",
              "      <td>H</td>\n",
              "      <td>78741</td>\n",
              "      <td>3122229</td>\n",
              "      <td>10059265</td>\n",
              "    </tr>\n",
              "    <tr>\n",
              "      <th>37429</th>\n",
              "      <td>4</td>\n",
              "      <td>AGG ASSAULT</td>\n",
              "      <td>Agg Assault</td>\n",
              "      <td>31-Dec-16</td>\n",
              "      <td>N</td>\n",
              "      <td>3-Jan-17</td>\n",
              "      <td>I</td>\n",
              "      <td>78752</td>\n",
              "      <td>3129116</td>\n",
              "      <td>10092808</td>\n",
              "    </tr>\n",
              "  </tbody>\n",
              "</table>\n",
              "<p>2086 rows × 10 columns</p>\n",
              "</div>"
            ],
            "text/plain": [
              "       council_district                        apd_desc  ...        x         y\n",
              "0                     8  AGG ASLT ENHANC STRANGL/SUFFOC  ...  3067322  10062796\n",
              "5                     1                  DEADLY CONDUCT  ...  3146947  10077985\n",
              "7                     3   AGG ASSAULT FAM/DATE VIOLENCE  ...  3122230  10059265\n",
              "8                     5     AGG ASLT STRANGLE/SUFFOCATE  ...  3099793  10058337\n",
              "13                    2                  DEADLY CONDUCT  ...  3115830  10042476\n",
              "...                 ...                             ...  ...      ...       ...\n",
              "37388                 3     AGG ASLT STRANGLE/SUFFOCATE  ...  3117791  10053978\n",
              "37389                 4     AGG ASLT STRANGLE/SUFFOCATE  ...  3133940  10101616\n",
              "37424                 4                     AGG ASSAULT  ...  3130873  10104034\n",
              "37427                 3  AGG ASLT ENHANC STRANGL/SUFFOC  ...  3122229  10059265\n",
              "37429                 4                     AGG ASSAULT  ...  3129116  10092808\n",
              "\n",
              "[2086 rows x 10 columns]"
            ]
          },
          "metadata": {
            "tags": []
          },
          "execution_count": 10
        }
      ]
    },
    {
      "cell_type": "code",
      "metadata": {
        "id": "hT6800om3kC1",
        "colab_type": "code",
        "colab": {
          "base_uri": "https://localhost:8080/",
          "height": 217
        },
        "outputId": "f7492f93-eb93-45df-ba78-4982f8208f7c"
      },
      "source": [
        "assault_df['apd_desc'].value_counts()"
      ],
      "execution_count": null,
      "outputs": [
        {
          "output_type": "execute_result",
          "data": {
            "text/plain": [
              "AGG ASSAULT                       840\n",
              "AGG ASLT STRANGLE/SUFFOCATE       599\n",
              "AGG ASSAULT FAM/DATE VIOLENCE     333\n",
              "DEADLY CONDUCT                    137\n",
              "AGG ASSAULT WITH MOTOR VEH         66\n",
              "AGG ASLT ENHANC STRANGL/SUFFOC     53\n",
              "AGG ASLT W/MOTOR VEH FAM/DAT V     26\n",
              "AGG ASSAULT ON PUBLIC SERVANT      20\n",
              "TAKE WEAPON FRM POLICE OFFICER      8\n",
              "DEADLY CONDUCT FAM/DATE VIOL        3\n",
              "SERIOUS INJURY TO A CHILD           1\n",
              "Name: apd_desc, dtype: int64"
            ]
          },
          "metadata": {
            "tags": []
          },
          "execution_count": 17
        }
      ]
    },
    {
      "cell_type": "code",
      "metadata": {
        "id": "DEjhrR7zYmxs",
        "colab_type": "code",
        "colab": {
          "base_uri": "https://localhost:8080/",
          "height": 33
        },
        "outputId": "8fd5894c-bda8-4e02-d399-a04f5e9e6fb8"
      },
      "source": [
        "assault_df['apd_desc'].value_counts().shape"
      ],
      "execution_count": 19,
      "outputs": [
        {
          "output_type": "execute_result",
          "data": {
            "text/plain": [
              "(11,)"
            ]
          },
          "metadata": {
            "tags": []
          },
          "execution_count": 19
        }
      ]
    },
    {
      "cell_type": "code",
      "metadata": {
        "id": "ZeBxZHNl6X3Q",
        "colab_type": "code",
        "colab": {}
      },
      "source": [
        "agg_df = assault_df[assault_df['apd_desc']=='AGG ASSAULT']\n",
        "strangle_df = assault_df[assault_df['apd_desc']=='AGG ASLT STRANGLE/SUFFOCATE']\n",
        "famdate_df = assault_df[assault_df['apd_desc']=='AGG ASSAULT FAM/DATE VIOLENCE']\n",
        "deadly_df = assault_df[assault_df['apd_desc']=='DEADLY CONDUCT']"
      ],
      "execution_count": 11,
      "outputs": []
    },
    {
      "cell_type": "code",
      "metadata": {
        "id": "9N9CqgcZ3_sJ",
        "colab_type": "code",
        "colab": {
          "base_uri": "https://localhost:8080/",
          "height": 84
        },
        "outputId": "024bdeff-a99a-46f5-87d0-c42a77329b1e"
      },
      "source": [
        "agg_df['location_zip'].value_counts().head(3)"
      ],
      "execution_count": 12,
      "outputs": [
        {
          "output_type": "execute_result",
          "data": {
            "text/plain": [
              "78753    86\n",
              "78741    83\n",
              "78701    75\n",
              "Name: location_zip, dtype: int64"
            ]
          },
          "metadata": {
            "tags": []
          },
          "execution_count": 12
        }
      ]
    },
    {
      "cell_type": "markdown",
      "metadata": {
        "id": "BXG7Vm4_79qC",
        "colab_type": "text"
      },
      "source": [
        "###78753\n",
        "- Small Homeless population (.4%)\n",
        "- Median Household Income of $52,767\n",
        "- Far North Austin--Almost in Pflugerville\n",
        "\n",
        "###78741\n",
        "- East of St. Edward's\n",
        "\n",
        "###78701\n",
        "- Downtown Austin\n",
        "- Very dense with restaurants and bars"
      ]
    },
    {
      "cell_type": "code",
      "metadata": {
        "id": "YkK-XV8AaI01",
        "colab_type": "code",
        "colab": {}
      },
      "source": [
        ""
      ],
      "execution_count": null,
      "outputs": []
    },
    {
      "cell_type": "code",
      "metadata": {
        "id": "HBys2uaw5HUl",
        "colab_type": "code",
        "colab": {
          "base_uri": "https://localhost:8080/",
          "height": 84
        },
        "outputId": "3a136162-9f6b-4c24-e497-78747f0b128a"
      },
      "source": [
        "strangle_df['location_zip'].value_counts().head(3)"
      ],
      "execution_count": 13,
      "outputs": [
        {
          "output_type": "execute_result",
          "data": {
            "text/plain": [
              "78741    77\n",
              "78753    70\n",
              "78758    58\n",
              "Name: location_zip, dtype: int64"
            ]
          },
          "metadata": {
            "tags": []
          },
          "execution_count": 13
        }
      ]
    },
    {
      "cell_type": "code",
      "metadata": {
        "id": "DPojNy267Xpl",
        "colab_type": "code",
        "colab": {
          "base_uri": "https://localhost:8080/",
          "height": 84
        },
        "outputId": "8d9d1e94-9fc6-4985-ff05-8497b9d74c72"
      },
      "source": [
        "famdate_df['location_zip'].value_counts().head(3)"
      ],
      "execution_count": 14,
      "outputs": [
        {
          "output_type": "execute_result",
          "data": {
            "text/plain": [
              "78758    37\n",
              "78753    36\n",
              "78723    29\n",
              "Name: location_zip, dtype: int64"
            ]
          },
          "metadata": {
            "tags": []
          },
          "execution_count": 14
        }
      ]
    },
    {
      "cell_type": "code",
      "metadata": {
        "id": "BBM61EOE7gWN",
        "colab_type": "code",
        "colab": {
          "base_uri": "https://localhost:8080/",
          "height": 84
        },
        "outputId": "4363927f-5575-4f12-fc97-916d40eaa732"
      },
      "source": [
        "deadly_df['location_zip'].value_counts().head(3)"
      ],
      "execution_count": 15,
      "outputs": [
        {
          "output_type": "execute_result",
          "data": {
            "text/plain": [
              "78744    17\n",
              "78702    15\n",
              "78758    15\n",
              "Name: location_zip, dtype: int64"
            ]
          },
          "metadata": {
            "tags": []
          },
          "execution_count": 15
        }
      ]
    },
    {
      "cell_type": "code",
      "metadata": {
        "id": "Ilqqevh-7mvl",
        "colab_type": "code",
        "colab": {}
      },
      "source": [
        ""
      ],
      "execution_count": null,
      "outputs": []
    }
  ]
}